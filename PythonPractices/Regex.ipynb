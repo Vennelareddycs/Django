{
 "cells": [
  {
   "cell_type": "code",
   "execution_count": 1,
   "id": "7b896263-0446-44fb-a318-6c6434c0133d",
   "metadata": {},
   "outputs": [
    {
     "ename": "SyntaxError",
     "evalue": "invalid syntax (565249425.py, line 1)",
     "output_type": "error",
     "traceback": [
      "\u001b[1;36m  Cell \u001b[1;32mIn[1], line 1\u001b[1;36m\u001b[0m\n\u001b[1;33m    Create an Author class that inherits from Person.\u001b[0m\n\u001b[1;37m           ^\u001b[0m\n\u001b[1;31mSyntaxError\u001b[0m\u001b[1;31m:\u001b[0m invalid syntax\n"
     ]
    }
   ],
   "source": [
    "Create an Author class that inherits from Person.\n",
    "Add additional attributes such as books_written and award_won.\n",
    "Include a method display_info() that overrides the one in the Person \n",
    "class to display both general information and information specific to the author.\n",
    "\n",
    "class Person:\n",
    "    def __init__(self,books_written,award_won):\n",
    "        self.books_written=books_written\n",
    "        self.award_won=award_won\n",
    "        def display_info()\n",
    "    "
   ]
  },
  {
   "cell_type": "code",
   "execution_count": 2,
   "id": "437088ad-0dcc-47cf-a235-ac3ec6a0132d",
   "metadata": {},
   "outputs": [
    {
     "name": "stdout",
     "output_type": "stream",
     "text": [
      "{3, 4, 5, 6, 7}\n"
     ]
    }
   ],
   "source": [
    "list1=[3,4,5,6,6,7]\n",
    "set1=set(list1)\n",
    "print(set1)"
   ]
  },
  {
   "cell_type": "code",
   "execution_count": null,
   "id": "3828e06e-2d99-40f2-8305-fa38ecfc2409",
   "metadata": {},
   "outputs": [],
   "source": []
  },
  {
   "cell_type": "code",
   "execution_count": null,
   "id": "87fb6524-ed63-46b8-bd7c-c0fb6a6961aa",
   "metadata": {},
   "outputs": [],
   "source": []
  },
  {
   "cell_type": "code",
   "execution_count": 2,
   "id": "8254cada-71bb-48e9-8970-269496ecddc1",
   "metadata": {},
   "outputs": [],
   "source": [
    "text = \"The agent's phone number\""
   ]
  },
  {
   "cell_type": "code",
   "execution_count": 3,
   "id": "330e1e6d-a56d-4387-8658-1bf17fe369b4",
   "metadata": {},
   "outputs": [
    {
     "data": {
      "text/plain": [
       "True"
      ]
     },
     "execution_count": 3,
     "metadata": {},
     "output_type": "execute_result"
    }
   ],
   "source": [
    "'phone' in text"
   ]
  },
  {
   "cell_type": "code",
   "execution_count": 4,
   "id": "763de443-6bb1-41d1-b59e-0b8c06b522e9",
   "metadata": {},
   "outputs": [],
   "source": [
    "import re\n"
   ]
  },
  {
   "cell_type": "code",
   "execution_count": 5,
   "id": "02043141-944f-402b-8509-c20c7bb84cd3",
   "metadata": {},
   "outputs": [],
   "source": [
    "pattern = 'phone'"
   ]
  },
  {
   "cell_type": "code",
   "execution_count": 6,
   "id": "87179895-21cd-487d-a46f-1aa4f6d99117",
   "metadata": {},
   "outputs": [
    {
     "data": {
      "text/plain": [
       "<re.Match object; span=(12, 17), match='phone'>"
      ]
     },
     "execution_count": 6,
     "metadata": {},
     "output_type": "execute_result"
    }
   ],
   "source": [
    "re.search(pattern,text)"
   ]
  },
  {
   "cell_type": "code",
   "execution_count": 7,
   "id": "8e31a37f-4f91-490a-8776-0a6fa591c1c1",
   "metadata": {},
   "outputs": [],
   "source": [
    "pattern = '890'"
   ]
  },
  {
   "cell_type": "code",
   "execution_count": 8,
   "id": "e1636bf2-2015-44c5-9250-d5673c393937",
   "metadata": {},
   "outputs": [],
   "source": [
    "re.search(pattern,text)"
   ]
  },
  {
   "cell_type": "code",
   "execution_count": 9,
   "id": "1ffccba4-7669-4aa0-83cc-69028e0daf5c",
   "metadata": {},
   "outputs": [],
   "source": [
    "pattern = 'phone'"
   ]
  },
  {
   "cell_type": "code",
   "execution_count": 10,
   "id": "4f4655dc-fcff-4a8d-9b92-ba791db2d5ed",
   "metadata": {},
   "outputs": [],
   "source": [
    "match = re.search(pattern,text)"
   ]
  },
  {
   "cell_type": "code",
   "execution_count": 11,
   "id": "253bbd4d-3d91-4a6a-8ad7-017bba637ad9",
   "metadata": {},
   "outputs": [
    {
     "data": {
      "text/plain": [
       "<re.Match object; span=(12, 17), match='phone'>"
      ]
     },
     "execution_count": 11,
     "metadata": {},
     "output_type": "execute_result"
    }
   ],
   "source": [
    "match"
   ]
  },
  {
   "cell_type": "code",
   "execution_count": 12,
   "id": "1d9e873c-f9a9-49b6-ba59-711799cdf6a2",
   "metadata": {},
   "outputs": [
    {
     "data": {
      "text/plain": [
       "(12, 17)"
      ]
     },
     "execution_count": 12,
     "metadata": {},
     "output_type": "execute_result"
    }
   ],
   "source": [
    "match.span()"
   ]
  },
  {
   "cell_type": "code",
   "execution_count": 13,
   "id": "8fb767d7-9d0c-4604-9810-d27e24505a5d",
   "metadata": {},
   "outputs": [
    {
     "data": {
      "text/plain": [
       "12"
      ]
     },
     "execution_count": 13,
     "metadata": {},
     "output_type": "execute_result"
    }
   ],
   "source": [
    "match.start()"
   ]
  },
  {
   "cell_type": "code",
   "execution_count": 14,
   "id": "63c9face-8b60-4368-9a47-73f897deb2f7",
   "metadata": {},
   "outputs": [
    {
     "data": {
      "text/plain": [
       "17"
      ]
     },
     "execution_count": 14,
     "metadata": {},
     "output_type": "execute_result"
    }
   ],
   "source": [
    "match.end()"
   ]
  },
  {
   "cell_type": "code",
   "execution_count": 38,
   "id": "aedef537-6c3a-40aa-a9b2-8cd4132a7dfc",
   "metadata": {},
   "outputs": [],
   "source": [
    "text = 'my phone once, my phone twice'"
   ]
  },
  {
   "cell_type": "code",
   "execution_count": 39,
   "id": "e177e641-7396-4e61-b973-4e3e602fb2a4",
   "metadata": {},
   "outputs": [],
   "source": [
    "match = re.search('phone',text)"
   ]
  },
  {
   "cell_type": "code",
   "execution_count": 40,
   "id": "4986ab9a-e104-4160-aff7-e3d229739a96",
   "metadata": {},
   "outputs": [],
   "source": [
    "matches = re.findall('phone', text)"
   ]
  },
  {
   "cell_type": "code",
   "execution_count": 41,
   "id": "849f3d82-c43e-425e-b88f-c1d08370196d",
   "metadata": {},
   "outputs": [
    {
     "data": {
      "text/plain": [
       "['phone', 'phone']"
      ]
     },
     "execution_count": 41,
     "metadata": {},
     "output_type": "execute_result"
    }
   ],
   "source": [
    "matches"
   ]
  },
  {
   "cell_type": "code",
   "execution_count": 42,
   "id": "320c2786-1548-485d-ab5a-efcc5b909da1",
   "metadata": {},
   "outputs": [
    {
     "data": {
      "text/plain": [
       "2"
      ]
     },
     "execution_count": 42,
     "metadata": {},
     "output_type": "execute_result"
    }
   ],
   "source": [
    "len(matches)"
   ]
  },
  {
   "cell_type": "code",
   "execution_count": 43,
   "id": "887373e2-09a1-4b87-9014-3759dd424416",
   "metadata": {},
   "outputs": [
    {
     "name": "stdout",
     "output_type": "stream",
     "text": [
      "phone\n",
      "phone\n"
     ]
    }
   ],
   "source": [
    "for match in re.finditer('phone', text):\n",
    "    print(match.group())"
   ]
  },
  {
   "cell_type": "code",
   "execution_count": 44,
   "id": "43f945a5-03d6-46bc-a565-7ddec8d000d8",
   "metadata": {},
   "outputs": [],
   "source": [
    "text = \"The agent's phone number 91-97990394\""
   ]
  },
  {
   "cell_type": "code",
   "execution_count": 45,
   "id": "65e63296-df03-4bb5-9847-0fb7ef5417fa",
   "metadata": {},
   "outputs": [],
   "source": [
    "phone = re.search(r'\\d\\d-\\d\\d\\d\\d\\d\\d\\d\\d', text)"
   ]
  },
  {
   "cell_type": "code",
   "execution_count": 46,
   "id": "26b96111-c29b-4ce2-8867-f618e0bdd8ea",
   "metadata": {},
   "outputs": [
    {
     "data": {
      "text/plain": [
       "<re.Match object; span=(25, 36), match='91-97990394'>"
      ]
     },
     "execution_count": 46,
     "metadata": {},
     "output_type": "execute_result"
    }
   ],
   "source": [
    "phone"
   ]
  },
  {
   "cell_type": "code",
   "execution_count": 47,
   "id": "f316e0e8-b00e-4415-9657-bb02fc430a73",
   "metadata": {},
   "outputs": [
    {
     "data": {
      "text/plain": [
       "'91-97990394'"
      ]
     },
     "execution_count": 47,
     "metadata": {},
     "output_type": "execute_result"
    }
   ],
   "source": [
    "phone.group()"
   ]
  },
  {
   "cell_type": "code",
   "execution_count": 48,
   "id": "75e6e79c-d7d0-4c65-978c-b31ca0be98e2",
   "metadata": {},
   "outputs": [],
   "source": [
    "#Quantifiers"
   ]
  },
  {
   "cell_type": "code",
   "execution_count": 49,
   "id": "85a1d18c-9dbe-4e96-9766-fbcf0b00a708",
   "metadata": {},
   "outputs": [],
   "source": [
    "text = \"The agent's phone number 91-97990394\""
   ]
  },
  {
   "cell_type": "code",
   "execution_count": 50,
   "id": "3958f601-4914-453a-8082-36cd2da5201a",
   "metadata": {},
   "outputs": [],
   "source": [
    "phone = re.search(r'\\d{2}-\\d{8}',text)"
   ]
  },
  {
   "cell_type": "code",
   "execution_count": 51,
   "id": "9260d537-19f4-494a-816c-1cbcc547d7f9",
   "metadata": {},
   "outputs": [
    {
     "data": {
      "text/plain": [
       "<re.Match object; span=(25, 36), match='91-97990394'>"
      ]
     },
     "execution_count": 51,
     "metadata": {},
     "output_type": "execute_result"
    }
   ],
   "source": [
    "phone"
   ]
  },
  {
   "cell_type": "code",
   "execution_count": 52,
   "id": "b3c5e592-9d67-4538-a644-7fbf4591b608",
   "metadata": {},
   "outputs": [],
   "source": [
    "phone_pattern = re.compile(r'(\\d{2})-(\\d{8})')"
   ]
  },
  {
   "cell_type": "code",
   "execution_count": 53,
   "id": "fe043b42-9667-45af-acff-ad9b232c970a",
   "metadata": {},
   "outputs": [],
   "source": [
    "results = re.search(phone_pattern, text)"
   ]
  },
  {
   "cell_type": "code",
   "execution_count": 54,
   "id": "0aa6564b-aab1-4817-ae42-fbc76f05126f",
   "metadata": {},
   "outputs": [
    {
     "data": {
      "text/plain": [
       "'91-97990394'"
      ]
     },
     "execution_count": 54,
     "metadata": {},
     "output_type": "execute_result"
    }
   ],
   "source": [
    "results.group()"
   ]
  },
  {
   "cell_type": "code",
   "execution_count": 55,
   "id": "9ab76fef-5de8-4301-8c8c-ec78fd006710",
   "metadata": {},
   "outputs": [
    {
     "data": {
      "text/plain": [
       "'91'"
      ]
     },
     "execution_count": 55,
     "metadata": {},
     "output_type": "execute_result"
    }
   ],
   "source": [
    "results.group(1)"
   ]
  },
  {
   "cell_type": "code",
   "execution_count": 56,
   "id": "dfdec5a1-ba11-4c11-80a4-a13329ca41fd",
   "metadata": {},
   "outputs": [
    {
     "data": {
      "text/plain": [
       "'97990394'"
      ]
     },
     "execution_count": 56,
     "metadata": {},
     "output_type": "execute_result"
    }
   ],
   "source": [
    "results.group(2)"
   ]
  },
  {
   "cell_type": "code",
   "execution_count": 57,
   "id": "9a514f80-a34b-4b09-b28c-741961fde2dd",
   "metadata": {},
   "outputs": [],
   "source": [
    "#Additional regex syntax"
   ]
  },
  {
   "cell_type": "code",
   "execution_count": 90,
   "id": "96f2d1eb-22ab-428e-a8d5-488e1da07282",
   "metadata": {},
   "outputs": [],
   "source": [
    "re.search('cat','The cat is here')"
   ]
  },
  {
   "cell_type": "code",
   "execution_count": 91,
   "id": "6f0bc3cc-78c1-4bd1-91f6-f1cad44c162d",
   "metadata": {},
   "outputs": [],
   "source": [
    "re.search('dog','The cat is here')"
   ]
  },
  {
   "cell_type": "code",
   "execution_count": 92,
   "id": "4f2ec926-dd08-4b85-a7c0-95517788e745",
   "metadata": {},
   "outputs": [
    {
     "data": {
      "text/plain": [
       "<re.Match object; span=(4, 7), match='cat'>"
      ]
     },
     "execution_count": 92,
     "metadata": {},
     "output_type": "execute_result"
    }
   ],
   "source": [
    "re.search(r'cat|dog','The cat is here')"
   ]
  },
  {
   "cell_type": "code",
   "execution_count": 89,
   "id": "bff5a5d1-ce19-476d-a032-aeede9d7a3c4",
   "metadata": {},
   "outputs": [
    {
     "data": {
      "text/plain": [
       "['at', 'at', 'at', 'at']"
      ]
     },
     "execution_count": 89,
     "metadata": {},
     "output_type": "execute_result"
    }
   ],
   "source": [
    "re.findall(r'at','The cat in the hat sat splat there')"
   ]
  },
  {
   "cell_type": "code",
   "execution_count": 69,
   "id": "09315104-5611-44bc-a0f8-eda5d70f7e56",
   "metadata": {},
   "outputs": [
    {
     "data": {
      "text/plain": [
       "['e cat', 'e hat', 'splat']"
      ]
     },
     "execution_count": 69,
     "metadata": {},
     "output_type": "execute_result"
    }
   ],
   "source": [
    "re.findall(r'...at','The cat in the hat sat splat there')"
   ]
  },
  {
   "cell_type": "code",
   "execution_count": 70,
   "id": "e24fd68a-0e4f-414f-9b3a-2a3ee7d6eb1a",
   "metadata": {},
   "outputs": [
    {
     "data": {
      "text/plain": [
       "['1']"
      ]
     },
     "execution_count": 70,
     "metadata": {},
     "output_type": "execute_result"
    }
   ],
   "source": [
    "re.findall(r'^\\d','1 is a number')# ^ for startswith"
   ]
  },
  {
   "cell_type": "code",
   "execution_count": 93,
   "id": "3701766c-6944-4332-82af-19590bb534ff",
   "metadata": {},
   "outputs": [
    {
     "data": {
      "text/plain": [
       "['2']"
      ]
     },
     "execution_count": 93,
     "metadata": {},
     "output_type": "execute_result"
    }
   ],
   "source": [
    "re.findall(r'\\d$','12 is a number equal to 12') # $ for endswith"
   ]
  },
  {
   "cell_type": "code",
   "execution_count": 94,
   "id": "567be64b-70dc-4ac5-bf96-0e9faf759d91",
   "metadata": {},
   "outputs": [],
   "source": [
    "phrase= 'there are 3 numbers 34 inside 5'"
   ]
  },
  {
   "cell_type": "code",
   "execution_count": 95,
   "id": "9356cc30-a9cf-4356-9809-348ba1206072",
   "metadata": {},
   "outputs": [],
   "source": [
    "pattern = r'[^\\d]+'"
   ]
  },
  {
   "cell_type": "code",
   "execution_count": 86,
   "id": "2eae62f2-d89d-49ea-97a2-e420fab8d1f1",
   "metadata": {},
   "outputs": [
    {
     "data": {
      "text/plain": [
       "['there are ', ' numbers ', ' inside ']"
      ]
     },
     "execution_count": 86,
     "metadata": {},
     "output_type": "execute_result"
    }
   ],
   "source": [
    "re.findall(pattern,phrase)"
   ]
  },
  {
   "cell_type": "code",
   "execution_count": 105,
   "id": "6434bbe9-0273-4df2-abc8-6be4d1445de4",
   "metadata": {},
   "outputs": [
    {
     "name": "stdout",
     "output_type": "stream",
     "text": [
      "Digits found in the text: ['3', '30']\n"
     ]
    }
   ],
   "source": [
    "import re\n",
    "\n",
    "text = \"The meeting is scheduled at 3:30 PM.\"\n",
    "pattern = r\"\\d+\"\n",
    "matches = re.findall(pattern, text)\n",
    "\n",
    "print(\"Digits found in the text:\", matches)"
   ]
  },
  {
   "cell_type": "code",
   "execution_count": 106,
   "id": "61138181-bfc8-4873-9ce0-4676be1040f7",
   "metadata": {},
   "outputs": [
    {
     "name": "stdout",
     "output_type": "stream",
     "text": [
      "Digits found in the text: ['The meeting is scheduled at ', ':', ' PM.']\n"
     ]
    }
   ],
   "source": [
    "import re\n",
    "\n",
    "text = \"The meeting is scheduled at 3:30 PM.\"\n",
    "pattern = r\"\\D+\"\n",
    "matches = re.findall(pattern, text)\n",
    "\n",
    "print(\"Digits found in the text:\", matches)"
   ]
  },
  {
   "cell_type": "code",
   "execution_count": 107,
   "id": "eff770d0-8370-439a-b5ca-5e103178889f",
   "metadata": {},
   "outputs": [
    {
     "name": "stdout",
     "output_type": "stream",
     "text": [
      "Digits found in the text: ['The', 'meeting', 'is', 'scheduled', 'at', '3', '30', 'PM']\n"
     ]
    }
   ],
   "source": [
    "import re\n",
    "\n",
    "text = \"The meeting is scheduled at 3:30 PM.\"\n",
    "pattern = r\"\\w+\"\n",
    "matches = re.findall(pattern, text)\n",
    "\n",
    "print(\"Digits found in the text:\", matches)"
   ]
  },
  {
   "cell_type": "code",
   "execution_count": 109,
   "id": "98f75105-2709-4062-bcdc-0361f03873f2",
   "metadata": {},
   "outputs": [
    {
     "name": "stdout",
     "output_type": "stream",
     "text": [
      "Digits found in the text: [' ', ' ', ' ', ' ', ' ', ' ', '\\t', '\\t', '\\n']\n"
     ]
    }
   ],
   "source": [
    "import re\n",
    "\n",
    "text = \"The meeting is scheduled at 3:30 PM.with\\ttabs\\tand\\nnewlines.\"\n",
    "pattern = r\"\\s+\"\n",
    "matches = re.findall(pattern, text)\n",
    "\n",
    "print(\"Digits found in the text:\", matches)"
   ]
  },
  {
   "cell_type": "code",
   "execution_count": 115,
   "id": "f28ff5f9-fb00-4b47-a0b0-24407de7e4c6",
   "metadata": {},
   "outputs": [],
   "source": [
    "text = 'This is a string-But it has ok-How to remove it?.'"
   ]
  },
  {
   "cell_type": "code",
   "execution_count": 116,
   "id": "8e81b61a-2c3a-4a3f-a2a3-d2586ebcf64b",
   "metadata": {},
   "outputs": [],
   "source": [
    "pattern=r'\\w+-\\w+'"
   ]
  },
  {
   "cell_type": "code",
   "execution_count": 117,
   "id": "fedd63ee-b86f-4c64-8cec-5b7fae8c7cd6",
   "metadata": {},
   "outputs": [
    {
     "data": {
      "text/plain": [
       "['string-But', 'ok-How']"
      ]
     },
     "execution_count": 117,
     "metadata": {},
     "output_type": "execute_result"
    }
   ],
   "source": [
    "re.findall(pattern, text)"
   ]
  },
  {
   "cell_type": "code",
   "execution_count": null,
   "id": "17e72423-d6df-4a90-bbad-e2438233a64e",
   "metadata": {},
   "outputs": [],
   "source": []
  }
 ],
 "metadata": {
  "kernelspec": {
   "display_name": "Python 3 (ipykernel)",
   "language": "python",
   "name": "python3"
  },
  "language_info": {
   "codemirror_mode": {
    "name": "ipython",
    "version": 3
   },
   "file_extension": ".py",
   "mimetype": "text/x-python",
   "name": "python",
   "nbconvert_exporter": "python",
   "pygments_lexer": "ipython3",
   "version": "3.11.5"
  }
 },
 "nbformat": 4,
 "nbformat_minor": 5
}
