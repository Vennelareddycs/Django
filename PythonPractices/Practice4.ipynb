{
 "cells": [
  {
   "cell_type": "code",
   "execution_count": 13,
   "id": "ee231dd8-ee0b-42b1-b4b0-17948946c496",
   "metadata": {},
   "outputs": [
    {
     "data": {
      "text/plain": [
       "18"
      ]
     },
     "execution_count": 13,
     "metadata": {},
     "output_type": "execute_result"
    }
   ],
   "source": [
    "#Given a list of numbers, create a function to find the sum of all positive numbers.\n",
    "def sum_of_positive_nums(num):\n",
    "    sum=0\n",
    "    for x in num:\n",
    "        if x > 0:\n",
    "            sum=sum+x\n",
    "    return sum\n",
    "num_list=[2,3,-4,5,8]\n",
    "sum_of_positive_nums(num_list)       "
   ]
  },
  {
   "cell_type": "code",
   "execution_count": 24,
   "id": "4b0585e4-9cf2-4039-9ada-bc815161833e",
   "metadata": {},
   "outputs": [
    {
     "data": {
      "text/plain": [
       "'apple is not a  palindrome'"
      ]
     },
     "execution_count": 24,
     "metadata": {},
     "output_type": "execute_result"
    }
   ],
   "source": [
    "#Write a Python function to check if a given string is a palindrome\n",
    "def is_palindrome(name):\n",
    "    palindrome=name[::-1]\n",
    "    if name== palindrome:\n",
    "        return f'{name} is palindrome'\n",
    "    else:\n",
    "        return  f'{name} is not a  palindrome'\n",
    "is_palindrome(\"madam\")\n",
    "is_palindrome(\"apple\")"
   ]
  },
  {
   "cell_type": "code",
   "execution_count": 23,
   "id": "a936a4d8-3ac7-4af5-b4b3-331c4d43bef7",
   "metadata": {},
   "outputs": [
    {
     "data": {
      "text/plain": [
       "[1, 4, 16, 36, 49]"
      ]
     },
     "execution_count": 23,
     "metadata": {},
     "output_type": "execute_result"
    }
   ],
   "source": [
    "#Create a function to find the square of each element in a given list-\n",
    "def squared_elements_list(num):\n",
    "    squared_list=[]\n",
    "    for ele in num:\n",
    "       squared_list.append(ele**2) \n",
    "    return squared_list\n",
    "num_list=[1,2,4,6,7]\n",
    "squared_elements_list(num_list)"
   ]
  },
  {
   "cell_type": "code",
   "execution_count": 27,
   "id": "9ae9dffa-462f-47dd-b590-f17b07aeffbb",
   "metadata": {},
   "outputs": [
    {
     "name": "stdin",
     "output_type": "stream",
     "text": [
      "enter positive integer 5\n"
     ]
    },
    {
     "data": {
      "text/plain": [
       "'5 is Odd'"
      ]
     },
     "execution_count": 27,
     "metadata": {},
     "output_type": "execute_result"
    }
   ],
   "source": [
    "#Write a function to check if a number is even or odd and return \"Even\" or \"Odd\" accordingly-\n",
    "def even_odd_number(num):\n",
    "    if num%2 == 0:\n",
    "        return f'{num} is Even'\n",
    "    else:\n",
    "        return f'{num} is Odd'\n",
    "n=int(input(\"enter positive integer\"))\n",
    "even_odd_number(n)"
   ]
  },
  {
   "cell_type": "code",
   "execution_count": 29,
   "id": "28048d7f-8b57-4171-ba08-d14a55f9166a",
   "metadata": {},
   "outputs": [
    {
     "name": "stdin",
     "output_type": "stream",
     "text": [
      "enter value of base in positive number 4\n",
      "enter value of height in positive number 8\n"
     ]
    },
    {
     "data": {
      "text/plain": [
       "16.0"
      ]
     },
     "execution_count": 29,
     "metadata": {},
     "output_type": "execute_result"
    }
   ],
   "source": [
    "#Calculate the area of a triangle given its base and height using a function\n",
    "def area_triangle(base,height):\n",
    "    return (1/2)*base*height\n",
    "base=int(input(\"enter value of base in positive number\"))\n",
    "height=int(input(\"enter value of height in positive number\"))\n",
    "area_triangle(base,height)"
   ]
  },
  {
   "cell_type": "code",
   "execution_count": 31,
   "id": "0f035324-6ca0-4c30-b014-c0718f2252b3",
   "metadata": {},
   "outputs": [
    {
     "data": {
      "text/plain": [
       "['amla', 'cashew', 'cherry', 'kiwi']"
      ]
     },
     "execution_count": 31,
     "metadata": {},
     "output_type": "execute_result"
    }
   ],
   "source": [
    "#Create a function that takes a list of strings and returns the list sorted alphabetically\n",
    "def sort_alphabet(list):\n",
    "    return sorted(list)\n",
    "input=[\"cherry\",\"kiwi\",\"amla\",\"cashew\"]\n",
    "sort_alphabet(input)"
   ]
  },
  {
   "cell_type": "code",
   "execution_count": 32,
   "id": "cec0569d-9078-4aae-88e0-c054ae5e0dc5",
   "metadata": {},
   "outputs": [
    {
     "data": {
      "text/plain": [
       "[-5, 7]"
      ]
     },
     "execution_count": 32,
     "metadata": {},
     "output_type": "execute_result"
    }
   ],
   "source": [
    "#Write a function that takes two lists and returns their intersection (common elements)-\n",
    "def intersection_list(list1,list2):\n",
    "    intersection=[]\n",
    "    for ele in list1:\n",
    "        if ele in list2:\n",
    "            intersection.append(ele)\n",
    "    return intersection\n",
    "list1=[2,4,-5,6,7]\n",
    "list2=[-5,5,7,8,3]\n",
    "intersection_list(list1,list2)"
   ]
  },
  {
   "cell_type": "code",
   "execution_count": 46,
   "id": "b2285f9f-678e-4e08-aeca-ac4216d953cf",
   "metadata": {},
   "outputs": [
    {
     "data": {
      "text/plain": [
       "True"
      ]
     },
     "execution_count": 46,
     "metadata": {},
     "output_type": "execute_result"
    }
   ],
   "source": [
    "#Implement a function to check if a given year is a leap year or not-\n",
    "def is_leapyear(year):\n",
    "    if (year % 4 == 0 and year % 100 != 0) or (year % 400 == 0):\n",
    "        return True\n",
    "    else:\n",
    "        return False\n",
    "        \n",
    "is_leapyear(2000)"
   ]
  },
  {
   "cell_type": "code",
   "execution_count": 51,
   "id": "4c43e47b-8a65-4077-a75e-4af8a99e6d2c",
   "metadata": {},
   "outputs": [
    {
     "data": {
      "text/plain": [
       "'5 x 1 = 5'"
      ]
     },
     "execution_count": 51,
     "metadata": {},
     "output_type": "execute_result"
    }
   ],
   "source": [
    "#Create a function that takes a number as input and prints its multiplication table\n",
    "def multiplication_table(number):\n",
    "    if number <= 0 :\n",
    "        print(\"enter a positive number:\")\n",
    "    else:\n",
    "        for i in range(1,11):\n",
    "            return f'{number} x {i} = {number * i}'\n",
    "multiplication_table(5)\n",
    "            "
   ]
  },
  {
   "cell_type": "code",
   "execution_count": 54,
   "id": "fc5331b3-8a4c-49bf-8505-8791fbda4151",
   "metadata": {},
   "outputs": [
    {
     "name": "stdout",
     "output_type": "stream",
     "text": [
      "factorial of 8 = 40320\n"
     ]
    }
   ],
   "source": [
    "#Implement a function that returns the factorial of a given number using recursion-\n",
    "def fact(n):\n",
    "    if n==1:\n",
    "        return n\n",
    "    else:\n",
    "        return n * fact(n-1)\n",
    "num=8\n",
    "if num < 0:\n",
    "    print(\"factorial doesn't exist\")\n",
    "elif num == 0:\n",
    "    print(\"factorial of O is 1\")\n",
    "else:\n",
    "    print(f'factorial of {num} = {fact(num)}')"
   ]
  },
  {
   "cell_type": "code",
   "execution_count": 8,
   "id": "b9805b95-8c72-4f6f-bfb8-859310139d60",
   "metadata": {},
   "outputs": [],
   "source": []
  },
  {
   "cell_type": "code",
   "execution_count": 6,
   "id": "af0ddda9-8904-4a0c-b7e1-b105b9c95e20",
   "metadata": {},
   "outputs": [],
   "source": []
  },
  {
   "cell_type": "code",
   "execution_count": null,
   "id": "4e1f3707-f3da-4008-a973-a51a766f5132",
   "metadata": {},
   "outputs": [],
   "source": []
  }
 ],
 "metadata": {
  "kernelspec": {
   "display_name": "Python 3 (ipykernel)",
   "language": "python",
   "name": "python3"
  },
  "language_info": {
   "codemirror_mode": {
    "name": "ipython",
    "version": 3
   },
   "file_extension": ".py",
   "mimetype": "text/x-python",
   "name": "python",
   "nbconvert_exporter": "python",
   "pygments_lexer": "ipython3",
   "version": "3.11.5"
  }
 },
 "nbformat": 4,
 "nbformat_minor": 5
}
