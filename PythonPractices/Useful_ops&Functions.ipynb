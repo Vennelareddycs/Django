{
 "cells": [
  {
   "cell_type": "code",
   "execution_count": 2,
   "id": "9332d059-73e5-4de9-87d3-80fc7c13a530",
   "metadata": {},
   "outputs": [
    {
     "name": "stdout",
     "output_type": "stream",
     "text": [
      "0\n",
      "1\n",
      "2\n",
      "3\n",
      "4\n",
      "5\n",
      "6\n",
      "7\n",
      "8\n",
      "9\n",
      "1\n",
      "3\n",
      "5\n",
      "7\n",
      "9\n",
      "11\n",
      "13\n",
      "15\n",
      "17\n",
      "19\n",
      "{('sam', 4), ('Shambhavi', 3), ('Astha', 2), ('Manjeet', 4), ('Nikhil', 1)}\n"
     ]
    }
   ],
   "source": [
    "for num in range(10):\n",
    "    print(num)\n",
    "\n",
    "#printing odd numbers\n",
    "x=range(1,20,2)\n",
    "for n in x:\n",
    "    print(n)\n",
    "    \n",
    "name = [ \"Manjeet\", \"Nikhil\", \"Shambhavi\", \"Astha\" ,\"sam\"]\n",
    "roll_no = [ 4, 1, 3, 2,4,6 ]\n",
    "# using zip() to map values\n",
    "mapped = zip(name, roll_no)\n",
    " \n",
    "print(set(mapped))"
   ]
  },
  {
   "cell_type": "code",
   "execution_count": 2,
   "id": "56bf1487-0bae-47a3-a3f4-bc2dab0ebf98",
   "metadata": {},
   "outputs": [
    {
     "name": "stdout",
     "output_type": "stream",
     "text": [
      "((0, 'Manjeet'), (1, 'Nikhil'), (2, 'Shambhavi'), (3, 'Astha'))\n"
     ]
    }
   ],
   "source": [
    "name = [ \"Manjeet\", \"Nikhil\", \"Shambhavi\", \"Astha\" ]\n",
    "y=enumerate(name)\n",
    "print(tuple(y))"
   ]
  },
  {
   "cell_type": "code",
   "execution_count": 3,
   "id": "b39dd2b8-113f-428f-9693-877686a3f14f",
   "metadata": {},
   "outputs": [
    {
     "name": "stdout",
     "output_type": "stream",
     "text": [
      "yes\n"
     ]
    }
   ],
   "source": [
    "fruits = [\"apple\", \"banana\", \"cherry\"]\n",
    "\n",
    "if \"banana\" in fruits:\n",
    "  print(\"yes\")"
   ]
  },
  {
   "cell_type": "code",
   "execution_count": 8,
   "id": "b2140296-ed9b-461d-a203-c6c77a277e69",
   "metadata": {},
   "outputs": [
    {
     "name": "stdout",
     "output_type": "stream",
     "text": [
      "apple\n",
      "banana\n",
      "cherry\n"
     ]
    }
   ],
   "source": [
    "fruits = [\"apple\", \"banana\", \"cherry\"]\n",
    "\n",
    "for x in fruits:\n",
    "  print(x)"
   ]
  },
  {
   "cell_type": "code",
   "execution_count": 9,
   "id": "c03522e4-7321-487a-8628-d03711f2db47",
   "metadata": {},
   "outputs": [
    {
     "name": "stdout",
     "output_type": "stream",
     "text": [
      "3\n"
     ]
    }
   ],
   "source": [
    "import random\n",
    "print(random.randint(1,9))"
   ]
  },
  {
   "cell_type": "code",
   "execution_count": 13,
   "id": "fae6857c-ced6-4aa9-849d-cc5de8bfa254",
   "metadata": {},
   "outputs": [
    {
     "name": "stdout",
     "output_type": "stream",
     "text": [
      "['apple', 'cherry', 'banana']\n"
     ]
    }
   ],
   "source": [
    "import random\n",
    "\n",
    "mylist = [\"apple\", \"banana\", \"cherry\"]\n",
    "random.shuffle(mylist)\n",
    "\n",
    "print(mylist)"
   ]
  },
  {
   "cell_type": "code",
   "execution_count": null,
   "id": "56c0cb63-e396-46be-bcb0-9039400b37a7",
   "metadata": {},
   "outputs": [
    {
     "name": "stdout",
     "output_type": "stream",
     "text": [
      "Enter your name:\n"
     ]
    }
   ],
   "source": [
    "print('Enter your name:')\n",
    "x = input()\n",
    "print('Hello, ' + x)"
   ]
  },
  {
   "cell_type": "code",
   "execution_count": 12,
   "id": "4286d331-d124-4f3a-b7f7-5e7b26cc37b4",
   "metadata": {},
   "outputs": [
    {
     "name": "stdin",
     "output_type": "stream",
     "text": [
      "enter value 6\n"
     ]
    }
   ],
   "source": [
    "x=int(input(\"enter value\"))"
   ]
  },
  {
   "cell_type": "code",
   "execution_count": 13,
   "id": "742a1cd7-5ada-482a-a323-3c58aef5854c",
   "metadata": {},
   "outputs": [
    {
     "name": "stdout",
     "output_type": "stream",
     "text": [
      "['apple', 'banana', 'mango']\n"
     ]
    }
   ],
   "source": [
    "fruits = [\"apple\", \"banana\", \"cherry\", \"kiwi\", \"mango\"]\n",
    "newlist = [x for x in fruits if \"a\" in x]\n",
    "print(newlist)\n"
   ]
  },
  {
   "cell_type": "code",
   "execution_count": 14,
   "id": "12b80b78-b805-4759-be0a-a58134f9a3e1",
   "metadata": {},
   "outputs": [],
   "source": [
    "############## methods ################\n"
   ]
  },
  {
   "cell_type": "code",
   "execution_count": 19,
   "id": "05680c3a-c68e-4d47-935b-d65fd5cf15d7",
   "metadata": {},
   "outputs": [],
   "source": [
    "ml=[\"apple\", \"banana\", \"cherry\", \"kiwi\", \"mango\"]\n",
    "ml.pop()\n",
    "ml.append(\"mango\")\n",
    "ml.count(\"kiwi\")\n",
    "ml.insert(2,\"orange\")\n",
    "ml.sort()\n",
    "ml.reverse()"
   ]
  },
  {
   "cell_type": "code",
   "execution_count": 20,
   "id": "329f9cca-db45-4603-870f-ce25c14b02b9",
   "metadata": {},
   "outputs": [
    {
     "name": "stdout",
     "output_type": "stream",
     "text": [
      "['orange', 'mango', 'kiwi', 'cherry', 'banana', 'apple']\n"
     ]
    }
   ],
   "source": [
    "print(ml)"
   ]
  },
  {
   "cell_type": "code",
   "execution_count": 21,
   "id": "792d4ea9-0110-47b8-b21d-23a6fba0f197",
   "metadata": {},
   "outputs": [],
   "source": [
    "ml.remove(\"kiwi\")"
   ]
  },
  {
   "cell_type": "code",
   "execution_count": 22,
   "id": "df8ca54e-b884-4ba3-a164-53910137397e",
   "metadata": {},
   "outputs": [
    {
     "name": "stdout",
     "output_type": "stream",
     "text": [
      "Help on built-in function count:\n",
      "\n",
      "count(value, /) method of builtins.list instance\n",
      "    Return number of occurrences of value.\n",
      "\n"
     ]
    }
   ],
   "source": [
    "help(ml.count)"
   ]
  },
  {
   "cell_type": "code",
   "execution_count": 23,
   "id": "3543eaf2-48bc-455a-aa1c-05637e56cbe3",
   "metadata": {},
   "outputs": [
    {
     "data": {
      "text/plain": [
       "1"
      ]
     },
     "execution_count": 23,
     "metadata": {},
     "output_type": "execute_result"
    }
   ],
   "source": [
    "ml.count(\"cherry\")"
   ]
  },
  {
   "cell_type": "code",
   "execution_count": 24,
   "id": "cc2c81a1-10a6-4ed2-87ac-b5bdfe0907fe",
   "metadata": {},
   "outputs": [],
   "source": [
    "ml.insert(3,\"ukgu\")"
   ]
  },
  {
   "cell_type": "code",
   "execution_count": 25,
   "id": "cff5546a-3b2e-44e5-ae6c-f2001088e42d",
   "metadata": {},
   "outputs": [
    {
     "name": "stdout",
     "output_type": "stream",
     "text": [
      "['orange', 'mango', 'cherry', 'ukgu', 'banana', 'apple']\n"
     ]
    }
   ],
   "source": [
    "print(ml)"
   ]
  },
  {
   "cell_type": "code",
   "execution_count": 26,
   "id": "2c4310b6-c695-403b-adfd-6bb6a666c836",
   "metadata": {},
   "outputs": [
    {
     "name": "stdout",
     "output_type": "stream",
     "text": [
      "['apple', 'banana', 'ukgu', 'cherry', 'mango', 'orange']\n"
     ]
    }
   ],
   "source": [
    "ml.reverse()\n",
    "print(ml)"
   ]
  },
  {
   "cell_type": "code",
   "execution_count": 30,
   "id": "5093e3fd-3106-4f04-a104-8e7b4d90b59b",
   "metadata": {},
   "outputs": [
    {
     "name": "stdout",
     "output_type": "stream",
     "text": [
      "['apple', 'banana', 'kiwi', 'ukgu']\n"
     ]
    }
   ],
   "source": [
    "ml.sort()\n",
    "print(ml)"
   ]
  },
  {
   "cell_type": "code",
   "execution_count": 31,
   "id": "31296045-0de2-4141-a12a-c295b01b1797",
   "metadata": {},
   "outputs": [
    {
     "name": "stdout",
     "output_type": "stream",
     "text": [
      "Hello from a function\n"
     ]
    }
   ],
   "source": [
    "def my_function():\n",
    "  print(\"Hello from a function\")\n",
    "my_function()"
   ]
  },
  {
   "cell_type": "code",
   "execution_count": 34,
   "id": "1337da55-1ea1-4904-935f-59a883b0f0fc",
   "metadata": {},
   "outputs": [
    {
     "name": "stdout",
     "output_type": "stream",
     "text": [
      "Hello kavya\n"
     ]
    }
   ],
   "source": [
    "def my_function(name):\n",
    "  print(f\"Hello {name}\")\n",
    "my_function(\"kavya\")"
   ]
  },
  {
   "cell_type": "code",
   "execution_count": 35,
   "id": "43d61b91-4a88-474a-b25a-9006cc69874c",
   "metadata": {},
   "outputs": [
    {
     "data": {
      "text/plain": [
       "15"
      ]
     },
     "execution_count": 35,
     "metadata": {},
     "output_type": "execute_result"
    }
   ],
   "source": [
    "def add(n1,n2):\n",
    "    return n1+n2\n",
    "add(7,8)"
   ]
  },
  {
   "cell_type": "code",
   "execution_count": 36,
   "id": "e0a88d3c-9d4e-4811-b801-d51b64f37d43",
   "metadata": {},
   "outputs": [
    {
     "data": {
      "text/plain": [
       "True"
      ]
     },
     "execution_count": 36,
     "metadata": {},
     "output_type": "execute_result"
    }
   ],
   "source": [
    "def even_check(num):\n",
    "    return num%2 == 0\n",
    "even_check(30)"
   ]
  },
  {
   "cell_type": "code",
   "execution_count": 37,
   "id": "522a1754-d636-4719-87e5-bb287ab74a43",
   "metadata": {},
   "outputs": [
    {
     "data": {
      "text/plain": [
       "True"
      ]
     },
     "execution_count": 37,
     "metadata": {},
     "output_type": "execute_result"
    }
   ],
   "source": [
    "def even_check(num):\n",
    "    for i in num:\n",
    "        if i%2 == 0:\n",
    "            return True\n",
    "        else:\n",
    "            return False\n",
    "even_check([2,5,6])"
   ]
  },
  {
   "cell_type": "code",
   "execution_count": 41,
   "id": "8a58d3a8-1058-4b4a-87c1-2885bead7323",
   "metadata": {},
   "outputs": [
    {
     "data": {
      "text/plain": [
       "[2, 6]"
      ]
     },
     "execution_count": 41,
     "metadata": {},
     "output_type": "execute_result"
    }
   ],
   "source": [
    "def even_check_list(num):\n",
    "    even=[]\n",
    "    for i in num:\n",
    "        if i%2 == 0:\n",
    "            even.append(i)\n",
    "    return even\n",
    "even_check([2,5,6])"
   ]
  },
  {
   "cell_type": "code",
   "execution_count": 42,
   "id": "ab878879-c4b7-4ee9-a51b-d14e14472173",
   "metadata": {},
   "outputs": [
    {
     "name": "stdout",
     "output_type": "stream",
     "text": [
      "apple\n",
      "banana\n",
      "cherry\n"
     ]
    }
   ],
   "source": [
    "fruits = (\"apple\", \"banana\", \"cherry\")#packing a tuple\n",
    "\n",
    "(green, yellow, red) = fruits #unpacking\n",
    "\n",
    "print(green)\n",
    "print(yellow)\n",
    "print(red)\n"
   ]
  },
  {
   "cell_type": "code",
   "execution_count": 44,
   "id": "6f98e587-cc43-47f8-8c48-afffad813595",
   "metadata": {},
   "outputs": [
    {
     "name": "stdout",
     "output_type": "stream",
     "text": [
      "apple\n",
      "['banana', 'cherry', 'strawberry']\n",
      "raspberry\n"
     ]
    }
   ],
   "source": [
    "fruits = (\"apple\", \"banana\", \"cherry\", \"strawberry\", \"raspberry\")\n",
    "(green, *yellow, red) = fruits\n",
    "print(green)\n",
    "print(yellow)\n",
    "print(red)\n"
   ]
  },
  {
   "cell_type": "code",
   "execution_count": 48,
   "id": "7f3d54ef-682c-4697-b001-58ac3bfe4ae7",
   "metadata": {},
   "outputs": [
    {
     "name": "stdout",
     "output_type": "stream",
     "text": [
      "Hello Josa\n"
     ]
    }
   ],
   "source": [
    "def myfunc(name):\n",
    "   print(\"Hello {}\".format(name))\n",
    "   \n",
    "myfunc(\"Josa\")\n",
    "\n",
    "    "
   ]
  },
  {
   "cell_type": "code",
   "execution_count": 29,
   "id": "e5680350-3157-4dc1-b4ba-c441bf3c784e",
   "metadata": {},
   "outputs": [
    {
     "name": "stdout",
     "output_type": "stream",
     "text": [
      "(4, 5, 8, 56, 78)\n"
     ]
    }
   ],
   "source": [
    "def myfunc(*args):\n",
    "    print(args)\n",
    "myfunc(4,5,8,56,78)"
   ]
  },
  {
   "cell_type": "code",
   "execution_count": 50,
   "id": "bfaa2583-7335-445d-821c-9b25896e669a",
   "metadata": {},
   "outputs": [
    {
     "name": "stdout",
     "output_type": "stream",
     "text": [
      "4\n",
      "5\n",
      "8\n",
      "56\n",
      "78\n"
     ]
    }
   ],
   "source": [
    "def myfunc(*args):\n",
    "    for i in args:\n",
    "        print(i)\n",
    "myfunc(4,5,8,56,78)"
   ]
  },
  {
   "cell_type": "code",
   "execution_count": 54,
   "id": "da0a5da8-db61-4569-90b2-15940daf55de",
   "metadata": {},
   "outputs": [
    {
     "data": {
      "text/plain": [
       "18"
      ]
     },
     "execution_count": 54,
     "metadata": {},
     "output_type": "execute_result"
    }
   ],
   "source": [
    "def myfunc(*args):\n",
    "    sum=0\n",
    "    for i in args:\n",
    "        sum=sum+i\n",
    "    return sum\n",
    "myfunc(5,6,7)"
   ]
  },
  {
   "cell_type": "code",
   "execution_count": 41,
   "id": "4082c7ba-736d-4bc5-9b2d-7525af3ffd13",
   "metadata": {},
   "outputs": [
    {
     "name": "stdout",
     "output_type": "stream",
     "text": [
      "My favorite fruit is apple\n"
     ]
    }
   ],
   "source": [
    "def myfunc(**kwargs):\n",
    "    if 'fruit2' in kwargs:\n",
    "        print(f\"My favorite fruit is {kwargs['fruit2']}\")\n",
    "    else:\n",
    "        print(\"I don't like fruit\")\n",
    "\n",
    "myfunc(fruit1='pineapple', fruit2='apple' )"
   ]
  },
  {
   "cell_type": "code",
   "execution_count": 42,
   "id": "1207f9a3-4993-4858-8933-3d0b640a3882",
   "metadata": {},
   "outputs": [
    {
     "name": "stdout",
     "output_type": "stream",
     "text": [
      "arg1: 1\n",
      "arg2: 2\n",
      "Extra positional arguments (*args): (3, 4)\n",
      "Keyword arguments (kwargs): {'kwarg2': 'value2'}\n"
     ]
    }
   ],
   "source": [
    "def myfunc(arg1, arg2, *args, kwarg1=None, **kwargs):\n",
    "    print(f\"arg1: {arg1}\")\n",
    "    print(f\"arg2: {arg2}\")\n",
    "    print(f\"Extra positional arguments (*args): {args}\")\n",
    "    print(f\"Keyword arguments (kwargs): {kwargs}\")\n",
    "\n",
    "myfunc(1, 2, 3, 4, kwarg1=\"value1\", kwarg2=\"value2\")"
   ]
  },
  {
   "cell_type": "code",
   "execution_count": null,
   "id": "4a828796-a9d8-424e-9917-692f29198ec7",
   "metadata": {},
   "outputs": [],
   "source": []
  }
 ],
 "metadata": {
  "kernelspec": {
   "display_name": "Python 3 (ipykernel)",
   "language": "python",
   "name": "python3"
  },
  "language_info": {
   "codemirror_mode": {
    "name": "ipython",
    "version": 3
   },
   "file_extension": ".py",
   "mimetype": "text/x-python",
   "name": "python",
   "nbconvert_exporter": "python",
   "pygments_lexer": "ipython3",
   "version": "3.11.5"
  }
 },
 "nbformat": 4,
 "nbformat_minor": 5
}
