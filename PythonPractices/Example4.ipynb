{
 "cells": [
  {
   "cell_type": "code",
   "execution_count": 1,
   "id": "69e31a51-8662-4427-9178-070a86f406e3",
   "metadata": {},
   "outputs": [
    {
     "name": "stdin",
     "output_type": "stream",
     "text": [
      "enter string madam\n"
     ]
    },
    {
     "name": "stdout",
     "output_type": "stream",
     "text": [
      "madam is a palindrome\n"
     ]
    }
   ],
   "source": [
    "#Create a program that checks if a given string is a palindrome.\n",
    "name=input(\"enter string\")\n",
    "palindrome=name[::-1]\n",
    "if name==palindrome:\n",
    "    print(f'{name} is a palindrome')\n",
    "else:\n",
    "     print(f'{name} is not a palindrome')"
   ]
  },
  {
   "cell_type": "code",
   "execution_count": 2,
   "id": "1032ade6-962e-4824-b3b3-5d40a7ba7815",
   "metadata": {},
   "outputs": [
    {
     "name": "stderr",
     "output_type": "stream",
     "text": [
      "C:\\Users\\venncs\\AppData\\Local\\Programs\\Python\\Python311\\Lib\\site-packages\\IPython\\core\\inputtransformer2.py:627: UserWarning: `make_tokens_by_line` received a list of lines which do not have lineending markers ('\\n', '\\r', '\\r\\n', '\\x0b', '\\x0c'), behavior will be unspecified\n",
      "  tokens_by_line = make_tokens_by_line(lines)\n"
     ]
    },
    {
     "data": {
      "text/plain": [
       "6"
      ]
     },
     "execution_count": 2,
     "metadata": {},
     "output_type": "execute_result"
    }
   ],
   "source": [
    "#Write a function to count the number of vowels in a  ",
    "given string.\n",
    "def count_vowels(string_name):\n",
    "    vowels=['a','e','i','o','u']\n",
    "    count=0\n",
    "    for letter in string_name:\n",
    "        if letter in vowels:\n",
    "            count+=1\n",
    "    return count\n",
    "count_vowels(\"namee iou\")\n",
    "    \n"
   ]
  },
  {
   "cell_type": "code",
   "execution_count": null,
   "id": "86171f2c-6b4f-4698-98da-17801c4061c0",
   "metadata": {},
   "outputs": [],
   "source": []
  }
 ],
 "metadata": {
  "kernelspec": {
   "display_name": "Python 3 (ipykernel)",
   "language": "python",
   "name": "python3"
  },
  "language_info": {
   "codemirror_mode": {
    "name": "ipython",
    "version": 3
   },
   "file_extension": ".py",
   "mimetype": "text/x-python",
   "name": "python",
   "nbconvert_exporter": "python",
   "pygments_lexer": "ipython3",
   "version": "3.11.5"
  }
 },
 "nbformat": 4,
 "nbformat_minor": 5
}
