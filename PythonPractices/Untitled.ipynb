{
 "cells": [
  {
   "cell_type": "code",
   "execution_count": 1,
   "id": "cce8b822-c27c-4960-b8b5-11cd298d3a26",
   "metadata": {},
   "outputs": [
    {
     "name": "stdout",
     "output_type": "stream",
     "text": [
      "Hello, world!\n"
     ]
    }
   ],
   "source": [
    "print(\"Hello, world!\")"
   ]
  },
  {
   "cell_type": "code",
   "execution_count": 2,
   "id": "61608da9-8eec-465c-a22f-ed9b85a829e3",
   "metadata": {},
   "outputs": [
    {
     "data": {
      "text/plain": [
       "7"
      ]
     },
     "execution_count": 2,
     "metadata": {},
     "output_type": "execute_result"
    }
   ],
   "source": [
    "2+5"
   ]
  },
  {
   "cell_type": "code",
   "execution_count": 3,
   "id": "70f21f62-3764-4d1d-9127-9f1671deb2fb",
   "metadata": {},
   "outputs": [
    {
     "data": {
      "text/plain": [
       "42"
      ]
     },
     "execution_count": 3,
     "metadata": {},
     "output_type": "execute_result"
    }
   ],
   "source": [
    "7*6"
   ]
  },
  {
   "cell_type": "code",
   "execution_count": 11,
   "id": "10aa36cc-8830-48ca-9943-1373449cf3b4",
   "metadata": {},
   "outputs": [],
   "source": [
    "name=\"Hello\""
   ]
  },
  {
   "cell_type": "code",
   "execution_count": 8,
   "id": "0921b480-10d2-4a95-a26e-d50baadc62b1",
   "metadata": {},
   "outputs": [
    {
     "data": {
      "text/plain": [
       "'Hello'"
      ]
     },
     "execution_count": 8,
     "metadata": {},
     "output_type": "execute_result"
    }
   ],
   "source": [
    "name"
   ]
  },
  {
   "cell_type": "code",
   "execution_count": 9,
   "id": "6fffa215-1c1d-40b8-8090-d7dee95acca7",
   "metadata": {},
   "outputs": [
    {
     "data": {
      "text/plain": [
       "'e'"
      ]
     },
     "execution_count": 9,
     "metadata": {},
     "output_type": "execute_result"
    }
   ],
   "source": [
    "name[1]"
   ]
  },
  {
   "cell_type": "code",
   "execution_count": 10,
   "id": "06973868-0436-4f81-96d0-99fe985c68b2",
   "metadata": {},
   "outputs": [
    {
     "data": {
      "text/plain": [
       "'o'"
      ]
     },
     "execution_count": 10,
     "metadata": {},
     "output_type": "execute_result"
    }
   ],
   "source": [
    "name[-1]"
   ]
  },
  {
   "cell_type": "code",
   "execution_count": 12,
   "id": "735df793-5c5b-40df-93bb-e21fe5820be9",
   "metadata": {},
   "outputs": [
    {
     "data": {
      "text/plain": [
       "'ello'"
      ]
     },
     "execution_count": 12,
     "metadata": {},
     "output_type": "execute_result"
    }
   ],
   "source": [
    "name[1:5]"
   ]
  },
  {
   "cell_type": "code",
   "execution_count": 13,
   "id": "382d6d47-c37f-4fe7-8561-555492875b9d",
   "metadata": {},
   "outputs": [
    {
     "ename": "TypeError",
     "evalue": "'str' object does not support item assignment",
     "output_type": "error",
     "traceback": [
      "\u001b[1;31m---------------------------------------------------------------------------\u001b[0m",
      "\u001b[1;31mTypeError\u001b[0m                                 Traceback (most recent call last)",
      "Cell \u001b[1;32mIn[13], line 1\u001b[0m\n\u001b[1;32m----> 1\u001b[0m \u001b[43mname\u001b[49m\u001b[43m[\u001b[49m\u001b[38;5;241;43m0\u001b[39;49m\u001b[43m]\u001b[49m\u001b[38;5;241m=\u001b[39m\u001b[38;5;124m'\u001b[39m\u001b[38;5;124mp\u001b[39m\u001b[38;5;124m'\u001b[39m\n",
      "\u001b[1;31mTypeError\u001b[0m: 'str' object does not support item assignment"
     ]
    }
   ],
   "source": [
    "name[0]='p'"
   ]
  },
  {
   "cell_type": "code",
   "execution_count": 14,
   "id": "46b4331e-7cd6-40f3-8eb2-6eb7f15865b7",
   "metadata": {},
   "outputs": [
    {
     "data": {
      "text/plain": [
       "'Hello World'"
      ]
     },
     "execution_count": 14,
     "metadata": {},
     "output_type": "execute_result"
    }
   ],
   "source": [
    "name+\" World\""
   ]
  },
  {
   "cell_type": "code",
   "execution_count": 15,
   "id": "604b1f8d-c2b8-42c0-b3ec-d85ba74e9667",
   "metadata": {},
   "outputs": [],
   "source": [
    "letter='z'"
   ]
  },
  {
   "cell_type": "code",
   "execution_count": 16,
   "id": "0b56c28e-b6f6-4027-a0d0-84ca3976f50f",
   "metadata": {},
   "outputs": [
    {
     "data": {
      "text/plain": [
       "'zzzzzzzzzz'"
      ]
     },
     "execution_count": 16,
     "metadata": {},
     "output_type": "execute_result"
    }
   ],
   "source": [
    "letter*10"
   ]
  },
  {
   "cell_type": "code",
   "execution_count": 17,
   "id": "635fd8dd-1f34-4549-94dc-b35c4ed3a6d7",
   "metadata": {},
   "outputs": [
    {
     "data": {
      "text/plain": [
       "'HelloHelloHelloHelloHello'"
      ]
     },
     "execution_count": 17,
     "metadata": {},
     "output_type": "execute_result"
    }
   ],
   "source": [
    "name*5"
   ]
  },
  {
   "cell_type": "code",
   "execution_count": 18,
   "id": "c0b00c89-8ad0-4a7e-9bcd-8baa943371d4",
   "metadata": {},
   "outputs": [
    {
     "name": "stdout",
     "output_type": "stream",
     "text": [
      "Hello world\n"
     ]
    }
   ],
   "source": [
    "print(\"Hello {}\".format(\"world\"))"
   ]
  },
  {
   "cell_type": "code",
   "execution_count": 19,
   "id": "23b63962-eb02-49ad-b461-67888469c59f",
   "metadata": {},
   "outputs": [],
   "source": [
    "name=\"sam\"\n",
    "age=7"
   ]
  },
  {
   "cell_type": "code",
   "execution_count": 20,
   "id": "12aa9d39-4c5b-483d-8c66-8ecd2c6e3901",
   "metadata": {},
   "outputs": [
    {
     "name": "stdout",
     "output_type": "stream",
     "text": [
      "sam is 7 years old\n"
     ]
    }
   ],
   "source": [
    "print(f'{name} is {age} years old')"
   ]
  },
  {
   "cell_type": "code",
   "execution_count": 21,
   "id": "2ce85ee2-0335-4d2e-b0d5-a5944d22134b",
   "metadata": {},
   "outputs": [],
   "source": [
    "n=[2,3,5,7]"
   ]
  },
  {
   "cell_type": "code",
   "execution_count": 22,
   "id": "fb097caa-979e-4e07-9b0a-47563de31513",
   "metadata": {},
   "outputs": [
    {
     "data": {
      "text/plain": [
       "[2, 3, 5, 7]"
      ]
     },
     "execution_count": 22,
     "metadata": {},
     "output_type": "execute_result"
    }
   ],
   "source": [
    "n"
   ]
  },
  {
   "cell_type": "code",
   "execution_count": null,
   "id": "f786a2ab-3fa9-4cd8-ae4b-962c1db4a279",
   "metadata": {},
   "outputs": [],
   "source": []
  },
  {
   "cell_type": "code",
   "execution_count": 23,
   "id": "28b933fc-2c25-4706-be18-7c4a65d13c21",
   "metadata": {},
   "outputs": [
    {
     "ename": "IndexError",
     "evalue": "list assignment index out of range",
     "output_type": "error",
     "traceback": [
      "\u001b[1;31m---------------------------------------------------------------------------\u001b[0m",
      "\u001b[1;31mIndexError\u001b[0m                                Traceback (most recent call last)",
      "Cell \u001b[1;32mIn[23], line 1\u001b[0m\n\u001b[1;32m----> 1\u001b[0m \u001b[43mn\u001b[49m\u001b[43m[\u001b[49m\u001b[38;5;241;43m4\u001b[39;49m\u001b[43m]\u001b[49m\u001b[38;5;241m=\u001b[39m\u001b[38;5;241m8\u001b[39m\n\u001b[0;32m      2\u001b[0m n\n",
      "\u001b[1;31mIndexError\u001b[0m: list assignment index out of range"
     ]
    }
   ],
   "source": [
    "n[4]=8\n",
    "n"
   ]
  },
  {
   "cell_type": "code",
   "execution_count": 6,
   "id": "83ebe9f5-31aa-4600-ad6b-f20159a3cc90",
   "metadata": {},
   "outputs": [
    {
     "name": "stdout",
     "output_type": "stream",
     "text": [
      "Unique characters present in all strings: set()\n"
     ]
    }
   ],
   "source": [
    "# Implement a function that takes a list of strings and\n",
    "#returns a set of unique characters present in all string\n",
    "def unique_characters_in_strings(string_list):\n",
    "    if not string_list:\n",
    "        return set()  # Return an empty set if the list is empty\n",
    "    unique_chars = set(string_list[0]) # Initialize a set with the characters from the first string\n",
    "\n",
    "    for string in string_list[1:]: # Iterate through the remaining strings and find the common characters\n",
    "        unique_chars = unique_chars.intersection(set(string))\n",
    "\n",
    "    return unique_chars\n",
    "\n",
    "strings = [\"apple\", \"banana\", \"cherry\", \"date\"]\n",
    "unique_chars =unique_characters_in_strings(strings)\n",
    "print(\"Unique characters present in all strings:\", unique_chars)\n"
   ]
  },
  {
   "cell_type": "code",
   "execution_count": 8,
   "id": "8325f79b-eb69-4370-bdf0-2b031051eefb",
   "metadata": {},
   "outputs": [
    {
     "name": "stdout",
     "output_type": "stream",
     "text": [
      "{'value1': 10, 'value2': 20, 'value3': 15, 'value4': 25}\n"
     ]
    },
    {
     "ename": "ValueError",
     "evalue": "too many values to unpack (expected 2)",
     "output_type": "error",
     "traceback": [
      "\u001b[1;31m---------------------------------------------------------------------------\u001b[0m",
      "\u001b[1;31mValueError\u001b[0m                                Traceback (most recent call last)",
      "Cell \u001b[1;32mIn[8], line 10\u001b[0m\n\u001b[0;32m      8\u001b[0m c\u001b[38;5;241m=\u001b[39m\u001b[38;5;241m0\u001b[39m\n\u001b[0;32m      9\u001b[0m \u001b[38;5;28msum\u001b[39m\u001b[38;5;241m=\u001b[39m\u001b[38;5;241m0\u001b[39m\n\u001b[1;32m---> 10\u001b[0m \u001b[38;5;28;01mfor\u001b[39;00m (k,v) \u001b[38;5;129;01min\u001b[39;00m data:\n\u001b[0;32m     11\u001b[0m  c\u001b[38;5;241m=\u001b[39mc\u001b[38;5;241m+\u001b[39m\u001b[38;5;241m1\u001b[39m\n\u001b[0;32m     12\u001b[0m  \u001b[38;5;28msum\u001b[39m\u001b[38;5;241m=\u001b[39m\u001b[38;5;28msum\u001b[39m\u001b[38;5;241m+\u001b[39mv\n",
      "\u001b[1;31mValueError\u001b[0m: too many values to unpack (expected 2)"
     ]
    }
   ],
   "source": [
    "   data = {\n",
    "        'value1': 10,\n",
    "        'value2': 20,\n",
    "        'value3': 15,\n",
    "        'value4': 25\n",
    "   }\n",
    "print(data)\n",
    "c=0\n",
    "sum=0\n",
    "for (k,v) in data:\n",
    "    c=c+1\n",
    "    sum=sum+v\n",
    "avg=sum/c"
   ]
  },
  {
   "cell_type": "code",
   "execution_count": 9,
   "id": "a0583d36-e63a-439a-b4a8-ca35e2592259",
   "metadata": {},
   "outputs": [
    {
     "name": "stdin",
     "output_type": "stream",
     "text": [
      "Enter a string :  my name is an naman\n"
     ]
    },
    {
     "name": "stdout",
     "output_type": "stream",
     "text": [
      "'m': 3\n",
      "'y': 1\n",
      "' ': 4\n",
      "'n': 4\n",
      "'a': 4\n",
      "'e': 1\n",
      "'i': 1\n",
      "'s': 1\n"
     ]
    }
   ],
   "source": [
    "\n",
    "from collections import Counter\n",
    "\n",
    "def count_characters(input_string):\n",
    "    character_count = Counter(input_string)\n",
    "    return character_count\n",
    "\n",
    "input_string = input(\"Enter a string : \")\n",
    "result = count_characters(input_string)\n",
    "\n",
    "for char, count in result.items():\n",
    "    print(f\"'{char}': {count}\")\n",
    "\n"
   ]
  },
  {
   "cell_type": "code",
   "execution_count": 11,
   "id": "15362d49-7443-46d5-bc93-331ffe61cf7f",
   "metadata": {},
   "outputs": [
    {
     "name": "stdout",
     "output_type": "stream",
     "text": [
      "Counter({'l': 3, 'o': 2, ' ': 2, 'h': 1, 'e': 1, 'w': 1, 'r': 1, 'd': 1})\n"
     ]
    }
   ],
   "source": [
    "t=\"hello world \"\n",
    "count=Counter(t)\n",
    "print(count)"
   ]
  },
  {
   "cell_type": "code",
   "execution_count": 13,
   "id": "f6079dc5-f5f2-4c99-96d6-1f66e54bd200",
   "metadata": {},
   "outputs": [
    {
     "name": "stdout",
     "output_type": "stream",
     "text": [
      "{'a': 1, 'b': 3, 'c': 4}\n"
     ]
    }
   ],
   "source": [
    "dict1 = {'a': 1, 'b': 2}\n",
    "dict2 = {'b': 3, 'c': 4}\n",
    "dict1.update(dict2)\n",
    "print(dict1)"
   ]
  },
  {
   "cell_type": "code",
   "execution_count": 24,
   "id": "de1fe6ab-3ad3-4095-b9e4-42e0cb3bc858",
   "metadata": {},
   "outputs": [
    {
     "name": "stdout",
     "output_type": "stream",
     "text": [
      "Counter({2: 3, 1: 2, 3: 2, 4: 2, 5: 1})\n",
      "2\n"
     ]
    }
   ],
   "source": [
    "from collections import Counter\n",
    "elements = [1, 2, 2, 3, 1, 2, 5, 3, 4, 4]\n",
    "element_count = Counter(elements)\n",
    "print(element_count)\n",
    "print(max(element_count, key=element_count.get))"
   ]
  },
  {
   "cell_type": "code",
   "execution_count": 20,
   "id": "cbb36a9c-16cc-4910-aeca-d30fd092ecc5",
   "metadata": {},
   "outputs": [
    {
     "name": "stdout",
     "output_type": "stream",
     "text": [
      "Most frequent element: 2\n"
     ]
    }
   ],
   "source": [
    "from collections import Counter\n",
    "\n",
    "elements = [1, 2, 2, 3, 1, 2, 4, 5, 3, 4, 4]\n",
    "element_count = Counter(elements)\n",
    "result = max(element_count, key=element_count.get)\n",
    "\n",
    "print(\"Most frequent element:\", result)"
   ]
  },
  {
   "cell_type": "code",
   "execution_count": null,
   "id": "34cf8f10-45f5-4d4f-8840-b1699defcf3a",
   "metadata": {},
   "outputs": [],
   "source": []
  }
 ],
 "metadata": {
  "kernelspec": {
   "display_name": "Python 3 (ipykernel)",
   "language": "python",
   "name": "python3"
  },
  "language_info": {
   "codemirror_mode": {
    "name": "ipython",
    "version": 3
   },
   "file_extension": ".py",
   "mimetype": "text/x-python",
   "name": "python",
   "nbconvert_exporter": "python",
   "pygments_lexer": "ipython3",
   "version": "3.11.5"
  }
 },
 "nbformat": 4,
 "nbformat_minor": 5
}
