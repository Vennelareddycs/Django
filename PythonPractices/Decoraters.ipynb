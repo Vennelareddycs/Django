{
 "cells": [
  {
   "cell_type": "code",
   "execution_count": 2,
   "id": "0709e305-4d06-442d-8bb0-6e82a884ad1b",
   "metadata": {},
   "outputs": [
    {
     "name": "stdout",
     "output_type": "stream",
     "text": [
      "9\n"
     ]
    }
   ],
   "source": [
    "def deco(add):\n",
    "    def wrapper(a,b):\n",
    "        result= add(a,b)\n",
    "        return result\n",
    "    return wrapper\n",
    "\n",
    "@deco\n",
    "def add(a,b):\n",
    "    return a+b\n",
    "\n",
    "re=add(4,5)\n",
    "print(re)\n",
    "\n",
    "    "
   ]
  },
  {
   "cell_type": "code",
   "execution_count": 3,
   "id": "9f66c1f5-44bb-4e13-af1e-ba29900656e8",
   "metadata": {},
   "outputs": [
    {
     "name": "stdout",
     "output_type": "stream",
     "text": [
      "Before\n",
      "after\n",
      "1\n"
     ]
    }
   ],
   "source": [
    "def deco_sub(sub):\n",
    "    def wrapper(a,b):\n",
    "        print(\"Before\")\n",
    "        re=sub(a,b)\n",
    "        print(\"after\")\n",
    "        return re\n",
    "    return wrapper\n",
    "@deco_sub\n",
    "def sub(a,b):\n",
    "    return a-b\n",
    "re=sub(9,8)\n",
    "print(re)"
   ]
  },
  {
   "cell_type": "code",
   "execution_count": null,
   "id": "48ee6f47-8272-40d2-a88f-ad5179e99cba",
   "metadata": {},
   "outputs": [],
   "source": []
  }
 ],
 "metadata": {
  "kernelspec": {
   "display_name": "Python 3 (ipykernel)",
   "language": "python",
   "name": "python3"
  },
  "language_info": {
   "codemirror_mode": {
    "name": "ipython",
    "version": 3
   },
   "file_extension": ".py",
   "mimetype": "text/x-python",
   "name": "python",
   "nbconvert_exporter": "python",
   "pygments_lexer": "ipython3",
   "version": "3.11.5"
  }
 },
 "nbformat": 4,
 "nbformat_minor": 5
}
