{
 "cells": [
  {
   "cell_type": "code",
   "execution_count": 2,
   "id": "d455d4d0-ad40-476b-8f95-4615f7fd0586",
   "metadata": {},
   "outputs": [
    {
     "name": "stdout",
     "output_type": "stream",
     "text": [
      "my name is ?\n"
     ]
    }
   ],
   "source": [
    "#Given a list of words, concatenate them into a single string separated by spaces'\n",
    "def concatenate(words):\n",
    "    single_string=' '.join(words)\n",
    "    print(single_string)\n",
    "name=[\"my\",\"name\",\"is\",\"?\"]\n",
    "concatenate(name)"
   ]
  },
  {
   "cell_type": "code",
   "execution_count": 3,
   "id": "dbd512a8-8bd2-4c11-88dc-5325800c9cad",
   "metadata": {},
   "outputs": [
    {
     "name": "stdin",
     "output_type": "stream",
     "text": [
      "enter the string to reverse madam\n"
     ]
    },
    {
     "data": {
      "text/plain": [
       "'madam'"
      ]
     },
     "execution_count": 3,
     "metadata": {},
     "output_type": "execute_result"
    }
   ],
   "source": [
    "#Create a function to reverse a given string\n",
    "name[::-1]\n",
    "def reverse(name):\n",
    "    return name[::-1]\n",
    "\n",
    "string=input(\"enter the string to reverse\")\n",
    "reverse(string)"
   ]
  },
  {
   "cell_type": "code",
   "execution_count": 4,
   "id": "34bb42d5-87fe-4e29-b73f-3f2a75fbf035",
   "metadata": {},
   "outputs": [
    {
     "data": {
      "text/plain": [
       "3"
      ]
     },
     "execution_count": 4,
     "metadata": {},
     "output_type": "execute_result"
    }
   ],
   "source": [
    "# Write a program that takes a sentence as input and counts the number of words in it'\n",
    "def count_words(name):\n",
    "    s=name.split()\n",
    "    length=len(s)\n",
    "    return length\n",
    "count_words(\"name is l \")\n",
    "    "
   ]
  },
  {
   "cell_type": "code",
   "execution_count": 5,
   "id": "a233ae1b-3668-4bb8-a12d-e575949746e6",
   "metadata": {},
   "outputs": [
    {
     "data": {
      "text/plain": [
       "False"
      ]
     },
     "execution_count": 5,
     "metadata": {},
     "output_type": "execute_result"
    }
   ],
   "source": [
    "#Implement a function that checks if a given string is a pangram (contains all letters of the alphabet)'\n",
    "def is_pangram(string):\n",
    "    alphabets= \"abcdefghijklmnopqrstuvwxyz\"\n",
    "    for char in alphabets:\n",
    "        if char not in string.lower():\n",
    "            return False\n",
    "    return True\n",
    "string=\"the abcdefgh\"\n",
    "is_pangram(string)"
   ]
  },
  {
   "cell_type": "code",
   "execution_count": null,
   "id": "9e2686bd-20e1-4aac-9e40-b55a9eb4c32b",
   "metadata": {},
   "outputs": [],
   "source": [
    "#Given a string, write a function to remove all vowels from it and return the modified string\n",
    "def rem_vowels(string):\n",
    "    vowels=['a','e','i','o','u']\n",
    "    for char in string:\n",
    "        if char.lower() not in vowels:\n",
    "            return char"
   ]
  },
  {
   "cell_type": "code",
   "execution_count": 8,
   "id": "f9ab6b92-298c-4077-8b32-60cd556911ad",
   "metadata": {},
   "outputs": [
    {
     "data": {
      "text/plain": [
       "'name'"
      ]
     },
     "execution_count": 8,
     "metadata": {},
     "output_type": "execute_result"
    }
   ],
   "source": [
    "#Write a Python program to find the length of the longest word in a sentence'\n",
    "def longest_word(sentence):\n",
    "    str=sentence.split()\n",
    "    longest=''\n",
    "    for i in str:\n",
    "        if len(i)>len(longest):\n",
    "            longest=i\n",
    "    return longest\n",
    "longest_word(\"my name\")"
   ]
  },
  {
   "cell_type": "code",
   "execution_count": 13,
   "id": "b7c38741-b1be-494e-be3c-f41fc64b9fd1",
   "metadata": {},
   "outputs": [
    {
     "name": "stdout",
     "output_type": "stream",
     "text": [
      "Prime\n"
     ]
    }
   ],
   "source": [
    "num=1\n",
    "flag=1\n",
    "for i in range(2,int(num/2)+1):\n",
    "    if num % i == 0:\n",
    "        flag=0\n",
    "        break\n",
    "if flag==1:\n",
    "    print( \"Prime\")\n"
   ]
  },
  {
   "cell_type": "code",
   "execution_count": 1,
   "id": "f3473558-be26-4997-9463-a7a53d8e0f2d",
   "metadata": {},
   "outputs": [
    {
     "name": "stdin",
     "output_type": "stream",
     "text": [
      "enter the value 59\n"
     ]
    },
    {
     "name": "stdout",
     "output_type": "stream",
     "text": [
      "sum of digits of a given number : 14\n"
     ]
    }
   ],
   "source": [
    "num=int(input(\"enter the value\"))\n",
    "sum=0\n",
    "while(num > 0):\n",
    "    sum= sum+(num%10)\n",
    "    num=num//10\n",
    "print(f'sum of digits of a given number : {sum}')"
   ]
  },
  {
   "cell_type": "code",
   "execution_count": 3,
   "id": "cb0c3c6d-f930-4bf9-a20e-f4e8e3a8b1e3",
   "metadata": {},
   "outputs": [
    {
     "data": {
      "text/plain": [
       "'ymemansi'"
      ]
     },
     "execution_count": 3,
     "metadata": {},
     "output_type": "execute_result"
    }
   ],
   "source": [
    "#Create a function that takes a sentence as input and returns the sentence in reverse order'\n",
    "def reverse_sen(sen):\n",
    "    words=sen.split()\n",
    "    reverse=''\n",
    "    for word in words:\n",
    "        reverse=reverse+word[::-1]\n",
    "    return reverse\n",
    "reverse_sen(\"my name is\")"
   ]
  },
  {
   "cell_type": "code",
   "execution_count": 5,
   "id": "6ec7d979-6767-4e3b-8c16-e1ee4f2759ce",
   "metadata": {},
   "outputs": [
    {
     "data": {
      "text/plain": [
       "['n', 'a', 'b']"
      ]
     },
     "execution_count": 5,
     "metadata": {},
     "output_type": "execute_result"
    }
   ],
   "source": [
    "# Write a function to remove all duplicate characters from a given string\n",
    "def rem_duplicate(str):\n",
    "    removed= set(str)\n",
    "    return list(removed)\n",
    "rem_duplicate(\"banana\")"
   ]
  },
  {
   "cell_type": "code",
   "execution_count": 6,
   "id": "ad2fb650-f555-4dd8-8ebe-b4f6bdd4a55c",
   "metadata": {},
   "outputs": [
    {
     "data": {
      "text/plain": [
       "'geks'"
      ]
     },
     "execution_count": 6,
     "metadata": {},
     "output_type": "execute_result"
    }
   ],
   "source": [
    "def rem_duplicate(str):\n",
    "    rem=''\n",
    "    for char in str:\n",
    "        if char not in rem:\n",
    "            rem=rem+char\n",
    "    return rem\n",
    "rem_duplicate(\"geeks\")"
   ]
  },
  {
   "cell_type": "code",
   "execution_count": 14,
   "id": "068c05eb-c2ac-4530-a26e-3787274fe482",
   "metadata": {},
   "outputs": [
    {
     "data": {
      "text/plain": [
       "False"
      ]
     },
     "execution_count": 14,
     "metadata": {},
     "output_type": "execute_result"
    }
   ],
   "source": [
    "# Implement a program that takes a sentence and a word as input and checks if the word is present in the sentence.\n",
    "def func(sen,word):\n",
    "    words=sen.split()\n",
    "    if word in words:\n",
    "        return True\n",
    "    else:\n",
    "        return False\n",
    "func(\"name is a anil\",\"name\")\n",
    "            "
   ]
  },
  {
   "cell_type": "code",
   "execution_count": 15,
   "id": "b0262a7d-6223-49c5-abd1-1a6d98d9702e",
   "metadata": {},
   "outputs": [
    {
     "name": "stdout",
     "output_type": "stream",
     "text": [
      "the number of names that start with a vowel is 2\n"
     ]
    }
   ],
   "source": [
    "#Given a list of names, count the number of names that start with a vowel'\n",
    "names=[\"apple\",\"orange\",\"kiwi\",\"mango\"]\n",
    "vowels='aeiouAEIOU'\n",
    "count=0\n",
    "for name in names:\n",
    "    if name[0] in vowels:\n",
    "        count=count+1\n",
    "print(f'the number of names that start with a vowel is {count}')"
   ]
  },
  {
   "cell_type": "code",
   "execution_count": null,
   "id": "4c7bf630-a25f-4a65-992d-50cf749f5e0c",
   "metadata": {},
   "outputs": [],
   "source": []
  }
 ],
 "metadata": {
  "kernelspec": {
   "display_name": "Python 3 (ipykernel)",
   "language": "python",
   "name": "python3"
  },
  "language_info": {
   "codemirror_mode": {
    "name": "ipython",
    "version": 3
   },
   "file_extension": ".py",
   "mimetype": "text/x-python",
   "name": "python",
   "nbconvert_exporter": "python",
   "pygments_lexer": "ipython3",
   "version": "3.11.5"
  }
 },
 "nbformat": 4,
 "nbformat_minor": 5
}
