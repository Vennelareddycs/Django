{
 "cells": [
  {
   "cell_type": "code",
   "execution_count": 1,
   "id": "5e7b694f-4634-4616-90a6-498655b49170",
   "metadata": {},
   "outputs": [
    {
     "data": {
      "text/plain": [
       "25"
      ]
     },
     "execution_count": 1,
     "metadata": {},
     "output_type": "execute_result"
    }
   ],
   "source": [
    "5**2\n"
   ]
  },
  {
   "cell_type": "code",
   "execution_count": 2,
   "id": "c6555e7a-2553-45ad-be42-b649710dc6c1",
   "metadata": {},
   "outputs": [],
   "source": [
    "a = 5\n"
   ]
  },
  {
   "cell_type": "code",
   "execution_count": 3,
   "id": "18819666-8b5f-404b-be9a-3a291ac7429f",
   "metadata": {},
   "outputs": [],
   "source": [
    "a = 10"
   ]
  },
  {
   "cell_type": "code",
   "execution_count": 4,
   "id": "cf20c42c-cf21-408f-bed4-b95d8cff4bf1",
   "metadata": {},
   "outputs": [
    {
     "data": {
      "text/plain": [
       "20"
      ]
     },
     "execution_count": 4,
     "metadata": {},
     "output_type": "execute_result"
    }
   ],
   "source": [
    "a+a"
   ]
  },
  {
   "cell_type": "code",
   "execution_count": 5,
   "id": "9bb55d2d-f320-482e-821c-bc2afffe0537",
   "metadata": {},
   "outputs": [],
   "source": [
    "a = a +a"
   ]
  },
  {
   "cell_type": "code",
   "execution_count": 1,
   "id": "998d8307-4058-4104-a1cc-9c879add4061",
   "metadata": {},
   "outputs": [
    {
     "ename": "NameError",
     "evalue": "name 'a' is not defined",
     "output_type": "error",
     "traceback": [
      "\u001b[1;31m---------------------------------------------------------------------------\u001b[0m",
      "\u001b[1;31mNameError\u001b[0m                                 Traceback (most recent call last)",
      "Cell \u001b[1;32mIn[1], line 1\u001b[0m\n\u001b[1;32m----> 1\u001b[0m \u001b[43ma\u001b[49m\n",
      "\u001b[1;31mNameError\u001b[0m: name 'a' is not defined"
     ]
    }
   ],
   "source": [
    "a\n"
   ]
  },
  {
   "cell_type": "code",
   "execution_count": 7,
   "id": "1c56fa72-79c9-4f42-bcb2-156e9113ab59",
   "metadata": {},
   "outputs": [
    {
     "data": {
      "text/plain": [
       "20"
      ]
     },
     "execution_count": 7,
     "metadata": {},
     "output_type": "execute_result"
    }
   ],
   "source": [
    "a"
   ]
  },
  {
   "cell_type": "code",
   "execution_count": 8,
   "id": "bd8a1a49-ad91-4d28-a3d9-fc50c498baf5",
   "metadata": {},
   "outputs": [],
   "source": [
    "a = a +a"
   ]
  },
  {
   "cell_type": "code",
   "execution_count": 9,
   "id": "4e2ed3d2-d444-4833-9984-53661a14a128",
   "metadata": {},
   "outputs": [
    {
     "data": {
      "text/plain": [
       "40"
      ]
     },
     "execution_count": 9,
     "metadata": {},
     "output_type": "execute_result"
    }
   ],
   "source": [
    "a"
   ]
  },
  {
   "cell_type": "code",
   "execution_count": 10,
   "id": "6472b621-188e-4f47-845d-9d4f0db3bbe7",
   "metadata": {},
   "outputs": [],
   "source": [
    "a = a +a"
   ]
  },
  {
   "cell_type": "code",
   "execution_count": 11,
   "id": "189cadeb-06d6-47e2-b5f1-5075f5f4aaa0",
   "metadata": {},
   "outputs": [
    {
     "data": {
      "text/plain": [
       "80"
      ]
     },
     "execution_count": 11,
     "metadata": {},
     "output_type": "execute_result"
    }
   ],
   "source": [
    "a"
   ]
  },
  {
   "cell_type": "code",
   "execution_count": 12,
   "id": "7d6ab759-b650-4821-9299-976aae0c80bf",
   "metadata": {},
   "outputs": [
    {
     "data": {
      "text/plain": [
       "int"
      ]
     },
     "execution_count": 12,
     "metadata": {},
     "output_type": "execute_result"
    }
   ],
   "source": [
    "type(a)"
   ]
  },
  {
   "cell_type": "code",
   "execution_count": 13,
   "id": "35d1c51c-ec9d-49be-8502-6437b2f7b95c",
   "metadata": {},
   "outputs": [],
   "source": [
    "a= 8.0"
   ]
  },
  {
   "cell_type": "code",
   "execution_count": 14,
   "id": "7f9645cf-305a-4ab6-a7c2-882d98c8eb5f",
   "metadata": {},
   "outputs": [
    {
     "data": {
      "text/plain": [
       "float"
      ]
     },
     "execution_count": 14,
     "metadata": {},
     "output_type": "execute_result"
    }
   ],
   "source": [
    "type(a)"
   ]
  },
  {
   "cell_type": "code",
   "execution_count": 15,
   "id": "bc19d12b-2ae8-4e41-aec2-83e8b19e26bc",
   "metadata": {},
   "outputs": [],
   "source": [
    "int = 4"
   ]
  },
  {
   "cell_type": "code",
   "execution_count": 2,
   "id": "383b2a84-d928-4527-bc32-1cca197ef3e5",
   "metadata": {},
   "outputs": [],
   "source": [
    "my_income=100\n",
    "tax_rate=0.2\n",
    "my_taxes=my_income * tax_rate"
   ]
  },
  {
   "cell_type": "code",
   "execution_count": 3,
   "id": "625b0c9b-6556-4cc1-b834-dd2cc5c8957c",
   "metadata": {},
   "outputs": [
    {
     "data": {
      "text/plain": [
       "20.0"
      ]
     },
     "execution_count": 3,
     "metadata": {},
     "output_type": "execute_result"
    }
   ],
   "source": [
    "my_taxes"
   ]
  },
  {
   "cell_type": "code",
   "execution_count": 4,
   "id": "3f11a818-3ce4-4cb7-be0b-0e5500a5d2d3",
   "metadata": {},
   "outputs": [
    {
     "data": {
      "text/plain": [
       "\"I'm going on a run\""
      ]
     },
     "execution_count": 4,
     "metadata": {},
     "output_type": "execute_result"
    }
   ],
   "source": [
    "\"I'm going on a run\"\n"
   ]
  },
  {
   "cell_type": "raw",
   "id": "6cc092dd-95e7-42e0-bc22-d2c4d8f34782",
   "metadata": {},
   "source": [
    "print(\"hello\")"
   ]
  },
  {
   "cell_type": "code",
   "execution_count": 5,
   "id": "586652ca-5316-4a33-8302-d5a0ec3587b7",
   "metadata": {},
   "outputs": [
    {
     "name": "stdout",
     "output_type": "stream",
     "text": [
      "hello\n"
     ]
    }
   ],
   "source": [
    "print(\"hello\")"
   ]
  },
  {
   "cell_type": "code",
   "execution_count": 6,
   "id": "1f5fc2f4-4fc3-4e50-a614-19874e0de774",
   "metadata": {},
   "outputs": [
    {
     "name": "stdout",
     "output_type": "stream",
     "text": [
      "hello\n"
     ]
    }
   ],
   "source": [
    "print('hello')"
   ]
  },
  {
   "cell_type": "code",
   "execution_count": 8,
   "id": "fc4d7dfe-564c-4f3b-83e6-4d9c0f2be358",
   "metadata": {},
   "outputs": [
    {
     "name": "stdout",
     "output_type": "stream",
     "text": [
      "hello \n",
      "world\n"
     ]
    }
   ],
   "source": [
    "print(\"hello \\nworld\")"
   ]
  },
  {
   "cell_type": "code",
   "execution_count": 9,
   "id": "add475ce-d681-41bb-adff-31ce61e66a98",
   "metadata": {},
   "outputs": [
    {
     "ename": "SyntaxError",
     "evalue": "incomplete input (2317848076.py, line 1)",
     "output_type": "error",
     "traceback": [
      "\u001b[1;36m  Cell \u001b[1;32mIn[9], line 1\u001b[1;36m\u001b[0m\n\u001b[1;33m    len('hello'\u001b[0m\n\u001b[1;37m               ^\u001b[0m\n\u001b[1;31mSyntaxError\u001b[0m\u001b[1;31m:\u001b[0m incomplete input\n"
     ]
    }
   ],
   "source": [
    "len('hello'"
   ]
  },
  {
   "cell_type": "code",
   "execution_count": 10,
   "id": "18ba97ba-c39b-45d5-a1de-ee7e1890a3a4",
   "metadata": {},
   "outputs": [
    {
     "data": {
      "text/plain": [
       "5"
      ]
     },
     "execution_count": 10,
     "metadata": {},
     "output_type": "execute_result"
    }
   ],
   "source": [
    "len('hello')"
   ]
  },
  {
   "cell_type": "code",
   "execution_count": 11,
   "id": "39e641ed-7143-4559-80fc-3618ada26ab3",
   "metadata": {},
   "outputs": [
    {
     "data": {
      "text/plain": [
       "7"
      ]
     },
     "execution_count": 11,
     "metadata": {},
     "output_type": "execute_result"
    }
   ],
   "source": [
    "len('hello O')\n"
   ]
  },
  {
   "cell_type": "code",
   "execution_count": 12,
   "id": "a70032f5-120b-46e8-b221-fc40de6487d7",
   "metadata": {},
   "outputs": [],
   "source": [
    "name='Hello world'"
   ]
  },
  {
   "cell_type": "code",
   "execution_count": 13,
   "id": "cb955643-d437-4a39-b4b0-05d1a4cdcd70",
   "metadata": {},
   "outputs": [
    {
     "data": {
      "text/plain": [
       "'Hello world'"
      ]
     },
     "execution_count": 13,
     "metadata": {},
     "output_type": "execute_result"
    }
   ],
   "source": [
    "name"
   ]
  },
  {
   "cell_type": "code",
   "execution_count": 14,
   "id": "7dc95978-a096-4875-b1fa-ffa3125e4f94",
   "metadata": {},
   "outputs": [
    {
     "data": {
      "text/plain": [
       "'ell'"
      ]
     },
     "execution_count": 14,
     "metadata": {},
     "output_type": "execute_result"
    }
   ],
   "source": [
    "name[1:4]"
   ]
  },
  {
   "cell_type": "code",
   "execution_count": 15,
   "id": "bf9d7131-adca-490e-b6ab-0eb48d36b36c",
   "metadata": {},
   "outputs": [
    {
     "data": {
      "text/plain": [
       "'l'"
      ]
     },
     "execution_count": 15,
     "metadata": {},
     "output_type": "execute_result"
    }
   ],
   "source": [
    "name[-2]"
   ]
  },
  {
   "cell_type": "code",
   "execution_count": 16,
   "id": "a03e43c6-daaa-4e30-b15f-13afe7227cfc",
   "metadata": {},
   "outputs": [
    {
     "data": {
      "text/plain": [
       "'world'"
      ]
     },
     "execution_count": 16,
     "metadata": {},
     "output_type": "execute_result"
    }
   ],
   "source": [
    "name[6:]"
   ]
  },
  {
   "cell_type": "code",
   "execution_count": 17,
   "id": "8f99fe7b-ec80-4c4a-913d-67e9a2fad39a",
   "metadata": {},
   "outputs": [
    {
     "data": {
      "text/plain": [
       "'Hell'"
      ]
     },
     "execution_count": 17,
     "metadata": {},
     "output_type": "execute_result"
    }
   ],
   "source": [
    "name[:4]"
   ]
  },
  {
   "cell_type": "code",
   "execution_count": 18,
   "id": "081bec4c-5c3e-4cb7-a597-4c609f9f646a",
   "metadata": {},
   "outputs": [
    {
     "data": {
      "text/plain": [
       "'el ol'"
      ]
     },
     "execution_count": 18,
     "metadata": {},
     "output_type": "execute_result"
    }
   ],
   "source": [
    "name[1:10:2]"
   ]
  },
  {
   "cell_type": "code",
   "execution_count": 19,
   "id": "c330c55c-f66f-4549-be23-81f136854038",
   "metadata": {},
   "outputs": [
    {
     "data": {
      "text/plain": [
       "'dlrow olleH'"
      ]
     },
     "execution_count": 19,
     "metadata": {},
     "output_type": "execute_result"
    }
   ],
   "source": [
    "name[::-1]"
   ]
  },
  {
   "cell_type": "code",
   "execution_count": 20,
   "id": "8dccc734-f2e7-4af8-a944-c18e014bca7b",
   "metadata": {},
   "outputs": [
    {
     "ename": "TypeError",
     "evalue": "'str' object does not support item assignment",
     "output_type": "error",
     "traceback": [
      "\u001b[1;31m---------------------------------------------------------------------------\u001b[0m",
      "\u001b[1;31mTypeError\u001b[0m                                 Traceback (most recent call last)",
      "Cell \u001b[1;32mIn[20], line 1\u001b[0m\n\u001b[1;32m----> 1\u001b[0m \u001b[43mname\u001b[49m\u001b[43m[\u001b[49m\u001b[38;5;241;43m0\u001b[39;49m\u001b[43m]\u001b[49m\u001b[38;5;241m=\u001b[39m\u001b[38;5;124m'\u001b[39m\u001b[38;5;124mp\u001b[39m\u001b[38;5;124m'\u001b[39m\n",
      "\u001b[1;31mTypeError\u001b[0m: 'str' object does not support item assignment"
     ]
    }
   ],
   "source": [
    "name[0]='p'"
   ]
  },
  {
   "cell_type": "code",
   "execution_count": 21,
   "id": "7ce1febc-ccab-4223-9e2d-b89b92aea74d",
   "metadata": {},
   "outputs": [
    {
     "data": {
      "text/plain": [
       "'Hello worldHello worldHello worldHello worldHello worldHello worldHello worldHello worldHello worldHello world'"
      ]
     },
     "execution_count": 21,
     "metadata": {},
     "output_type": "execute_result"
    }
   ],
   "source": [
    "name * 10"
   ]
  },
  {
   "cell_type": "code",
   "execution_count": 22,
   "id": "6469fee1-b3a0-4ea0-8feb-4706c31d2f4e",
   "metadata": {},
   "outputs": [
    {
     "data": {
      "text/plain": [
       "'HELLO WORLD'"
      ]
     },
     "execution_count": 22,
     "metadata": {},
     "output_type": "execute_result"
    }
   ],
   "source": [
    "name.upper()"
   ]
  },
  {
   "cell_type": "code",
   "execution_count": 23,
   "id": "9d4832a1-2ccd-4e9f-80fc-67f3fc8898b4",
   "metadata": {},
   "outputs": [
    {
     "data": {
      "text/plain": [
       "'Hello world'"
      ]
     },
     "execution_count": 23,
     "metadata": {},
     "output_type": "execute_result"
    }
   ],
   "source": [
    "name.lstrip()"
   ]
  },
  {
   "cell_type": "code",
   "execution_count": 24,
   "id": "d90fbc47-9d43-4d91-a787-ae22fde7d93c",
   "metadata": {},
   "outputs": [
    {
     "data": {
      "text/plain": [
       "['Hello', 'world']"
      ]
     },
     "execution_count": 24,
     "metadata": {},
     "output_type": "execute_result"
    }
   ],
   "source": [
    "name.split()"
   ]
  },
  {
   "cell_type": "code",
   "execution_count": 25,
   "id": "2d16193c-e3a4-4b44-b7c0-e836255b7a31",
   "metadata": {},
   "outputs": [
    {
     "name": "stdout",
     "output_type": "stream",
     "text": [
      "Hello World\n"
     ]
    }
   ],
   "source": [
    "print(\"Hello {}\".format(\"World\"))"
   ]
  },
  {
   "cell_type": "code",
   "execution_count": 26,
   "id": "bbf6f5a9-f57f-4fe7-aaa4-bc2c0a4f8253",
   "metadata": {},
   "outputs": [
    {
     "name": "stdout",
     "output_type": "stream",
     "text": [
      "Hello Hi Good Morning\n"
     ]
    }
   ],
   "source": [
    "print(\"Hello {} {} {}\".format(\"Hi\",\"Good\", \"Morning\"))"
   ]
  },
  {
   "cell_type": "code",
   "execution_count": 27,
   "id": "60239292-7824-4914-b8d1-14ade1d51f24",
   "metadata": {},
   "outputs": [
    {
     "name": "stdout",
     "output_type": "stream",
     "text": [
      "Hello Hi Good Hi\n"
     ]
    }
   ],
   "source": [
    "print(\"Hello {a} {b} {a}\".format(a=\"Hi\",b=\"Good\", c=\"Morning\"))"
   ]
  },
  {
   "cell_type": "code",
   "execution_count": 28,
   "id": "c757b7b1-de93-4bca-bbad-25c55728a239",
   "metadata": {},
   "outputs": [],
   "source": [
    "r=10/7\n"
   ]
  },
  {
   "cell_type": "code",
   "execution_count": 29,
   "id": "ca109e6e-26f7-4ddf-add5-a7ad2f2f9e44",
   "metadata": {},
   "outputs": [
    {
     "data": {
      "text/plain": [
       "1.4285714285714286"
      ]
     },
     "execution_count": 29,
     "metadata": {},
     "output_type": "execute_result"
    }
   ],
   "source": [
    "r"
   ]
  },
  {
   "cell_type": "code",
   "execution_count": 30,
   "id": "4fbe474a-3852-43d7-bd07-dbdae4c0097a",
   "metadata": {},
   "outputs": [
    {
     "data": {
      "text/plain": [
       "4.5"
      ]
     },
     "execution_count": 30,
     "metadata": {},
     "output_type": "execute_result"
    }
   ],
   "source": [
    "27/6"
   ]
  },
  {
   "cell_type": "code",
   "execution_count": 31,
   "id": "d3c9da67-74a0-4c6a-8e44-35c366f77de7",
   "metadata": {},
   "outputs": [
    {
     "data": {
      "text/plain": [
       "5.4"
      ]
     },
     "execution_count": 31,
     "metadata": {},
     "output_type": "execute_result"
    }
   ],
   "source": [
    "27/5"
   ]
  },
  {
   "cell_type": "code",
   "execution_count": 32,
   "id": "d12c09b2-33d9-4add-abd9-82a2585c85e5",
   "metadata": {},
   "outputs": [
    {
     "data": {
      "text/plain": [
       "1.173913043478261"
      ]
     },
     "execution_count": 32,
     "metadata": {},
     "output_type": "execute_result"
    }
   ],
   "source": [
    "27/23"
   ]
  },
  {
   "cell_type": "code",
   "execution_count": 33,
   "id": "4471fdf3-5c78-41ed-a43b-afbd4dd31f7a",
   "metadata": {},
   "outputs": [],
   "source": [
    "r=27/23"
   ]
  },
  {
   "cell_type": "code",
   "execution_count": 34,
   "id": "d6a18382-1c77-4a4f-ab38-e342f7a0a4ec",
   "metadata": {},
   "outputs": [
    {
     "data": {
      "text/plain": [
       "1.173913043478261"
      ]
     },
     "execution_count": 34,
     "metadata": {},
     "output_type": "execute_result"
    }
   ],
   "source": [
    "r"
   ]
  },
  {
   "cell_type": "code",
   "execution_count": 35,
   "id": "7a2aad0e-2788-4b2b-aafd-c61cbc7a1a0f",
   "metadata": {},
   "outputs": [
    {
     "ename": "ValueError",
     "evalue": "unmatched '{' in format spec",
     "output_type": "error",
     "traceback": [
      "\u001b[1;31m---------------------------------------------------------------------------\u001b[0m",
      "\u001b[1;31mValueError\u001b[0m                                Traceback (most recent call last)",
      "Cell \u001b[1;32mIn[35], line 1\u001b[0m\n\u001b[1;32m----> 1\u001b[0m \u001b[38;5;28mprint\u001b[39m(\u001b[38;5;124;43m\"\u001b[39;49m\u001b[38;5;124;43mresult was \u001b[39;49m\u001b[38;5;124;43m{\u001b[39;49m\u001b[38;5;124;43mr:1.3f\u001b[39;49m\u001b[38;5;124;43m\"\u001b[39;49m\u001b[38;5;241;43m.\u001b[39;49m\u001b[43mformat\u001b[49m\u001b[43m(\u001b[49m\u001b[43mr\u001b[49m\u001b[38;5;241;43m=\u001b[39;49m\u001b[43mr\u001b[49m\u001b[43m)\u001b[49m)\n",
      "\u001b[1;31mValueError\u001b[0m: unmatched '{' in format spec"
     ]
    }
   ],
   "source": [
    "print(\"result was {r:1.3f\".format(r=r))"
   ]
  },
  {
   "cell_type": "code",
   "execution_count": 36,
   "id": "f47606ed-8191-4c01-a081-c0766b69e91e",
   "metadata": {},
   "outputs": [
    {
     "ename": "ValueError",
     "evalue": "unmatched '{' in format spec",
     "output_type": "error",
     "traceback": [
      "\u001b[1;31m---------------------------------------------------------------------------\u001b[0m",
      "\u001b[1;31mValueError\u001b[0m                                Traceback (most recent call last)",
      "Cell \u001b[1;32mIn[36], line 1\u001b[0m\n\u001b[1;32m----> 1\u001b[0m \u001b[38;5;28mprint\u001b[39m(\u001b[38;5;124;43m\"\u001b[39;49m\u001b[38;5;124;43mresult was \u001b[39;49m\u001b[38;5;124;43m{\u001b[39;49m\u001b[38;5;124;43mr:1.3f\u001b[39;49m\u001b[38;5;124;43m\"\u001b[39;49m\u001b[38;5;241;43m.\u001b[39;49m\u001b[43mformat\u001b[49m\u001b[43m(\u001b[49m\u001b[43mr\u001b[49m\u001b[43m)\u001b[49m)\n",
      "\u001b[1;31mValueError\u001b[0m: unmatched '{' in format spec"
     ]
    }
   ],
   "source": [
    "print(\"result was {r:1.3f\".format(r))"
   ]
  },
  {
   "cell_type": "code",
   "execution_count": 37,
   "id": "04da5bc2-70db-4236-8603-6b3e7bda966d",
   "metadata": {},
   "outputs": [
    {
     "name": "stdout",
     "output_type": "stream",
     "text": [
      "result was 1.174\n"
     ]
    }
   ],
   "source": [
    "print(\"result was {r:1.3f}\".format(r=r))"
   ]
  },
  {
   "cell_type": "code",
   "execution_count": 38,
   "id": "3ca2a4bc-d037-42af-a743-e622d180be00",
   "metadata": {},
   "outputs": [],
   "source": [
    "name=\"World\""
   ]
  },
  {
   "cell_type": "code",
   "execution_count": 39,
   "id": "5ba9aa92-2d1d-4bd9-b037-0bde56190bd9",
   "metadata": {},
   "outputs": [
    {
     "name": "stdout",
     "output_type": "stream",
     "text": [
      "Hello World\n"
     ]
    }
   ],
   "source": [
    "print(\"Hello {}\".format(name)) "
   ]
  },
  {
   "cell_type": "code",
   "execution_count": 40,
   "id": "10c42f83-7220-48f7-9764-3d359c583acb",
   "metadata": {},
   "outputs": [
    {
     "name": "stdout",
     "output_type": "stream",
     "text": [
      "Hello,World\n"
     ]
    }
   ],
   "source": [
    "print(f'Hello,{name}')"
   ]
  },
  {
   "cell_type": "code",
   "execution_count": 41,
   "id": "5f62ffc8-6231-40e4-9671-7a0ff2b8846c",
   "metadata": {},
   "outputs": [],
   "source": [
    "name=\"sam\"\n",
    "age=7"
   ]
  },
  {
   "cell_type": "code",
   "execution_count": 42,
   "id": "03b8eebe-4e63-464f-9499-9f89f159b208",
   "metadata": {},
   "outputs": [
    {
     "name": "stdout",
     "output_type": "stream",
     "text": [
      "sam is 7 years old\n"
     ]
    }
   ],
   "source": [
    "print(f'{name} is {age} years old')"
   ]
  },
  {
   "cell_type": "code",
   "execution_count": 43,
   "id": "232ed55e-204b-4086-8bc4-6c82f0a894fd",
   "metadata": {},
   "outputs": [],
   "source": [
    "list=[1,2,3,4]"
   ]
  },
  {
   "cell_type": "code",
   "execution_count": 44,
   "id": "f681df9d-3a88-480d-b06b-3b450bd64da5",
   "metadata": {},
   "outputs": [
    {
     "data": {
      "text/plain": [
       "[1, 2, 3, 4]"
      ]
     },
     "execution_count": 44,
     "metadata": {},
     "output_type": "execute_result"
    }
   ],
   "source": [
    "list"
   ]
  },
  {
   "cell_type": "code",
   "execution_count": 45,
   "id": "c527660d-e6a3-43a1-8cb4-092b20589b7c",
   "metadata": {},
   "outputs": [],
   "source": [
    "list1=[3,\"tyyg\",6]"
   ]
  },
  {
   "cell_type": "code",
   "execution_count": 46,
   "id": "cbf49bcf-bc97-4cbc-b511-d96a3d45baf1",
   "metadata": {},
   "outputs": [],
   "source": [
    "list2=list1+[\"yy\",7]"
   ]
  },
  {
   "cell_type": "code",
   "execution_count": 47,
   "id": "632b9391-e8bc-4e40-9aed-7d9af680de79",
   "metadata": {},
   "outputs": [
    {
     "data": {
      "text/plain": [
       "[3, 'tyyg', 6, 'yy', 7]"
      ]
     },
     "execution_count": 47,
     "metadata": {},
     "output_type": "execute_result"
    }
   ],
   "source": [
    "list2"
   ]
  },
  {
   "cell_type": "code",
   "execution_count": null,
   "id": "3a1320fe-59b0-4c0e-8ec0-be1f8d92f859",
   "metadata": {},
   "outputs": [],
   "source": [
    "my_dict={'k"
   ]
  }
 ],
 "metadata": {
  "kernelspec": {
   "display_name": "Python 3 (ipykernel)",
   "language": "python",
   "name": "python3"
  },
  "language_info": {
   "codemirror_mode": {
    "name": "ipython",
    "version": 3
   },
   "file_extension": ".py",
   "mimetype": "text/x-python",
   "name": "python",
   "nbconvert_exporter": "python",
   "pygments_lexer": "ipython3",
   "version": "3.11.5"
  }
 },
 "nbformat": 4,
 "nbformat_minor": 5
}
