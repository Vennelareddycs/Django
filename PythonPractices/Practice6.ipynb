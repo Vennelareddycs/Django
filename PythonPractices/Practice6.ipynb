{
 "cells": [
  {
   "cell_type": "code",
   "execution_count": 1,
   "id": "96ddadcb-6e0a-4dec-984b-3b9ccf3d490a",
   "metadata": {},
   "outputs": [
    {
     "name": "stdout",
     "output_type": "stream",
     "text": [
      "sum of list of numbers : 27\n",
      "6.75\n"
     ]
    }
   ],
   "source": [
    "#Given a list of numbers, find the sum and average using built-in functions.\n",
    "list1=[4,6,8,9]\n",
    "sum=sum(list1)\n",
    "print(f'sum of list of numbers : {sum}')\n",
    "avg=sum/len(list1)\n",
    "print(avg)"
   ]
  },
  {
   "cell_type": "code",
   "execution_count": 2,
   "id": "18ab5723-069e-4bac-9fd2-36ab0991e52c",
   "metadata": {},
   "outputs": [
    {
     "name": "stdout",
     "output_type": "stream",
     "text": [
      "['apple', 'orange', 'kiwi', 'mango', 'watermelon']\n"
     ]
    }
   ],
   "source": [
    "#Create a list of fruits and add a new fruit to the list.\n",
    "fruits=['apple','orange','kiwi']\n",
    "fruits.append('mango')\n",
    "fruits.append('watermelon')\n",
    "print(fruits)"
   ]
  },
  {
   "cell_type": "code",
   "execution_count": 5,
   "id": "228a2522-0096-4a4f-8271-cb7c2d5bd5ee",
   "metadata": {},
   "outputs": [
    {
     "name": "stdout",
     "output_type": "stream",
     "text": [
      "apple\n",
      "orange\n",
      "kiwi\n",
      "apple\n",
      "orange\n",
      "kiwi\n"
     ]
    }
   ],
   "source": [
    "#Access elements in a tuple using indexing.\n",
    "fruits=('apple','orange','kiwi')\n",
    "print(fruits[0])\n",
    "print(fruits[1])\n",
    "print(fruits[2])\n",
    "for ele in fruits:\n",
    "    print(ele)\n"
   ]
  },
  {
   "cell_type": "code",
   "execution_count": null,
   "id": "bf52d16d-36b4-4cb5-8ba8-d8583412a2f8",
   "metadata": {},
   "outputs": [],
   "source": []
  }
 ],
 "metadata": {
  "kernelspec": {
   "display_name": "Python 3 (ipykernel)",
   "language": "python",
   "name": "python3"
  },
  "language_info": {
   "codemirror_mode": {
    "name": "ipython",
    "version": 3
   },
   "file_extension": ".py",
   "mimetype": "text/x-python",
   "name": "python",
   "nbconvert_exporter": "python",
   "pygments_lexer": "ipython3",
   "version": "3.11.5"
  }
 },
 "nbformat": 4,
 "nbformat_minor": 5
}
