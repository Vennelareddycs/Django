{
 "cells": [
  {
   "cell_type": "code",
   "execution_count": 3,
   "id": "68f218cd-f3ab-49c3-8b50-aa0605fbb15c",
   "metadata": {},
   "outputs": [
    {
     "name": "stdin",
     "output_type": "stream",
     "text": [
      "enter radius: 13\n"
     ]
    },
    {
     "data": {
      "text/plain": [
       "530.66"
      ]
     },
     "execution_count": 3,
     "metadata": {},
     "output_type": "execute_result"
    }
   ],
   "source": [
    "#Write a function to calculate the area of a circle given its radius.\n",
    "def area_of_circle(radius):\n",
    "    PI=3.14\n",
    "    return PI*radius*radius\n",
    "area_of_circle(int(input(\"enter radius:\")))"
   ]
  },
  {
   "cell_type": "code",
   "execution_count": 6,
   "id": "df6f9beb-6727-409c-ba66-c4bc5d16584e",
   "metadata": {},
   "outputs": [
    {
     "name": "stdout",
     "output_type": "stream",
     "text": [
      "7 is a prime number\n"
     ]
    }
   ],
   "source": [
    "# Create a function to check if a number is prime.\n",
    "def is_prime(num):\n",
    "    n=int(num/2)\n",
    "    flag=True\n",
    "    for i in range(2, n+1):\n",
    "        if num%i == 0:\n",
    "            flag=False\n",
    "            break\n",
    "    if flag==True:\n",
    "        print(f'{num} is a prime number')\n",
    "    else:\n",
    "        print(f'{num} is not a prime number')\n",
    "\n",
    "is_prime(7)\n",
    "    \n",
    "            \n",
    "                "
   ]
  },
  {
   "cell_type": "code",
   "execution_count": 7,
   "id": "b2d03d53-1a44-4912-aa59-b0d12f9d74c5",
   "metadata": {},
   "outputs": [
    {
     "name": "stdin",
     "output_type": "stream",
     "text": [
      "enter string hello fcvghb\n"
     ]
    },
    {
     "data": {
      "text/plain": [
       "'bhgvcf olleh'"
      ]
     },
     "execution_count": 7,
     "metadata": {},
     "output_type": "execute_result"
    }
   ],
   "source": [
    "# Implement a function that reverses a given string\n",
    "def reverse_string(name):\n",
    "    return name[::-1]\n",
    "s=input(\"enter string\")\n",
    "reverse_string(s)\n",
    "    "
   ]
  },
  {
   "cell_type": "code",
   "execution_count": null,
   "id": "1392dc54-1f89-4f60-b796-8d309f56ac3a",
   "metadata": {},
   "outputs": [],
   "source": []
  }
 ],
 "metadata": {
  "kernelspec": {
   "display_name": "Python 3 (ipykernel)",
   "language": "python",
   "name": "python3"
  },
  "language_info": {
   "codemirror_mode": {
    "name": "ipython",
    "version": 3
   },
   "file_extension": ".py",
   "mimetype": "text/x-python",
   "name": "python",
   "nbconvert_exporter": "python",
   "pygments_lexer": "ipython3",
   "version": "3.11.5"
  }
 },
 "nbformat": 4,
 "nbformat_minor": 5
}
