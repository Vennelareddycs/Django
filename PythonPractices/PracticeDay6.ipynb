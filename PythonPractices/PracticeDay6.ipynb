{
 "cells": [
  {
   "cell_type": "code",
   "execution_count": 2,
   "id": "d8dfd524-6ae3-4b36-9597-295222c73c1a",
   "metadata": {},
   "outputs": [
    {
     "name": "stdout",
     "output_type": "stream",
     "text": [
      "['a', 'b', 'c', 'd', 'e', 'f', 'g']\n"
     ]
    }
   ],
   "source": [
    "#Given two lists of numbers, concatenate them into a single list\n",
    "list1=['a','b','c','d']\n",
    "list2=['e','f','g']\n",
    "for ele in list2:\n",
    "    list1.append(ele)\n",
    "print(list1)"
   ]
  },
  {
   "cell_type": "code",
   "execution_count": 3,
   "id": "d71ff14b-8cd4-45f5-bbd3-76bcf911960e",
   "metadata": {},
   "outputs": [
    {
     "name": "stdout",
     "output_type": "stream",
     "text": [
      "9\n",
      "-8\n"
     ]
    }
   ],
   "source": [
    "#Write a program that finds the largest and smallest elements in a list%\n",
    "list1=[3,6,7,9,-8]\n",
    "list1.sort()\n",
    "print(list1[-1])\n",
    "print(list1[0])"
   ]
  },
  {
   "cell_type": "code",
   "execution_count": 6,
   "id": "92568078-8524-4b1e-9936-706f1f47a66d",
   "metadata": {},
   "outputs": [
    {
     "data": {
      "text/plain": [
       "[9, 36, 49, 81]"
      ]
     },
     "execution_count": 6,
     "metadata": {},
     "output_type": "execute_result"
    }
   ],
   "source": [
    "#Implement a function that takes a list of numbers and returns a new list with the squared values\n",
    "def squared(num_list):\n",
    "    squared=[]\n",
    "    for i in num_list:\n",
    "        squared.append(i*i)\n",
    "    return squared\n",
    "num_list=[3,6,7,9]\n",
    "squared(num_list)"
   ]
  },
  {
   "cell_type": "code",
   "execution_count": 7,
   "id": "ff58c5f8-3dd9-4771-b2bf-bb2cc94e20c3",
   "metadata": {},
   "outputs": [
    {
     "name": "stdout",
     "output_type": "stream",
     "text": [
      "['b', 'c', 'd']\n"
     ]
    }
   ],
   "source": [
    "#Create a program that finds the common elements between two lists and stores them in a new list%\n",
    "list1=['a','b','c','d']\n",
    "list2=['b','c','e','f','g','d']\n",
    "new=[]\n",
    "for ele in list1:\n",
    "    if ele in list2:\n",
    "        new.append(ele)\n",
    "print(new)\n",
    "        "
   ]
  },
  {
   "cell_type": "code",
   "execution_count": null,
   "id": "3aa71412-4562-4e01-8b19-0ff71e9e4c28",
   "metadata": {},
   "outputs": [],
   "source": []
  },
  {
   "cell_type": "code",
   "execution_count": 26,
   "id": "20a800e7-bec5-4857-a192-235aca353c49",
   "metadata": {},
   "outputs": [
    {
     "name": "stdout",
     "output_type": "stream",
     "text": [
      "watermelon\n"
     ]
    }
   ],
   "source": [
    "#Given a list of words, find the word with the maximum length and its length%\n",
    "word_list = ['apple', 'orange', 'mango', 'watermelon','kiwi']\n",
    "max_word=''\n",
    "for i in word_list:\n",
    "    if len(i)>len(max_word):\n",
    "        max_word=i\n",
    "print(max_word)"
   ]
  },
  {
   "cell_type": "code",
   "execution_count": 32,
   "id": "118fd1cf-b5d7-40f7-97d1-77fb34e76ece",
   "metadata": {},
   "outputs": [
    {
     "name": "stdout",
     "output_type": "stream",
     "text": [
      "{2: 2, 4: 4, 5: 1, 6: 4, 3: 2, 7: 2, 8: 2, 1: 1}\n",
      "2 : 2 \n",
      "4 : 4 \n",
      "5 : 1 \n",
      "6 : 4 \n",
      "3 : 2 \n",
      "7 : 2 \n",
      "8 : 2 \n",
      "1 : 1 \n"
     ]
    }
   ],
   "source": [
    "# Write a Python program to count the occurrences of each element in a given list%\n",
    "\n",
    "def count_elements(list):\n",
    "    counts={}\n",
    "    for ele in list1:\n",
    "        if ele in counts:\n",
    "            counts[ele] += 1\n",
    "        else:\n",
    "            counts[ele] = 1\n",
    "    print(counts)\n",
    "    return counts\n",
    "list1=[2,4,5,6,3,4,2,4,3,4,6,7,8,6,6,7,1,8]\n",
    "result=count_elements(list1)\n",
    "for ele, c in result.items():\n",
    "    print(f'{ele} : {c} ')"
   ]
  },
  {
   "cell_type": "code",
   "execution_count": 33,
   "id": "cd7ea103-7925-431b-b8ca-79675ce9e948",
   "metadata": {},
   "outputs": [
    {
     "data": {
      "text/plain": [
       "['apple', 'orange', 'mango', 'watermelon', 'kiwi']"
      ]
     },
     "execution_count": 33,
     "metadata": {},
     "output_type": "execute_result"
    }
   ],
   "source": [
    "#Given a list of names, remove all duplicate names and print the unique names%\n",
    "def rem_duplicates_names(names):\n",
    "    unique=[]\n",
    "    for name in names:\n",
    "        if name not in unique:\n",
    "            unique.append(name)\n",
    "    return unique\n",
    "names= ['apple', 'orange', 'mango', 'watermelon','kiwi','apple','kiwi']\n",
    "rem_duplicates_names(names)"
   ]
  },
  {
   "cell_type": "code",
   "execution_count": 38,
   "id": "f362c74a-4943-4fa7-a435-aeb4bccec610",
   "metadata": {},
   "outputs": [
    {
     "data": {
      "text/plain": [
       "True"
      ]
     },
     "execution_count": 38,
     "metadata": {},
     "output_type": "execute_result"
    }
   ],
   "source": [
    "# program that checks if a given list is sorted in ascending order\n",
    "def sorted_ascending(list):\n",
    "    n=len(list)\n",
    "    if n <= 1:\n",
    "        return True\n",
    "    for i in range(1,n):\n",
    "        if list[i] < list[i-1]:\n",
    "            return False\n",
    "    return True\n",
    "sorted=[1,2,3,4,5]\n",
    "unsorted=[3,4,2,1]\n",
    "sorted_ascending(sorted)\n",
    "#sorted_ascending(unsorted)"
   ]
  },
  {
   "cell_type": "code",
   "execution_count": 45,
   "id": "a46b7d65-5f62-450c-8f32-db344a46c19d",
   "metadata": {},
   "outputs": [
    {
     "name": "stdout",
     "output_type": "stream",
     "text": [
      "{1, 2, 4, 5, 6, 7, 8, 10}\n"
     ]
    }
   ],
   "source": [
    "#Implement a function that takes two lists and returns their union (all unique elements from both lists).\n",
    "def union_list(list1,list2):\n",
    "    final=list1+list2\n",
    "    union=set(final)\n",
    "    return union\n",
    "lst1 = [2, 10, 2, 1, 4, 6, 2 ,5]\n",
    "lst2 = [2, 8, 1, 2, 6, 2, 7, 4]\n",
    "print(union_list(lst1, lst2))"
   ]
  },
  {
   "cell_type": "code",
   "execution_count": null,
   "id": "280b0858-2ed6-4fde-bde8-f8c56c6be180",
   "metadata": {},
   "outputs": [],
   "source": []
  },
  {
   "cell_type": "code",
   "execution_count": null,
   "id": "61c69f61-01e1-4776-9643-db83028a2813",
   "metadata": {},
   "outputs": [],
   "source": []
  }
 ],
 "metadata": {
  "kernelspec": {
   "display_name": "Python 3 (ipykernel)",
   "language": "python",
   "name": "python3"
  },
  "language_info": {
   "codemirror_mode": {
    "name": "ipython",
    "version": 3
   },
   "file_extension": ".py",
   "mimetype": "text/x-python",
   "name": "python",
   "nbconvert_exporter": "python",
   "pygments_lexer": "ipython3",
   "version": "3.11.5"
  }
 },
 "nbformat": 4,
 "nbformat_minor": 5
}
