{
 "cells": [
  {
   "cell_type": "code",
   "execution_count": 1,
   "id": "08cf1636-5d3a-4935-970f-5676ff306d62",
   "metadata": {},
   "outputs": [
    {
     "name": "stdout",
     "output_type": "stream",
     "text": [
      "Positive\n"
     ]
    }
   ],
   "source": [
    "#1. Write a program that checks if a given number is positive, negative, or zero.\n",
    "a= 10\n",
    "if a > 0:\n",
    "    print(\"Positive\")\n",
    "elif a == 0:\n",
    "    print(\"Zero\")\n",
    "else:\n",
    "    print(\"Negative\")"
   ]
  },
  {
   "cell_type": "code",
   "execution_count": 12,
   "id": "f8e17067-324d-4abe-b802-8886fbb65957",
   "metadata": {},
   "outputs": [
    {
     "name": "stdout",
     "output_type": "stream",
     "text": [
      "0\n",
      "2\n",
      "4\n",
      "6\n",
      "8\n"
     ]
    }
   ],
   "source": [
    "# Create a loop that prints the first 10 even numbers.\n",
    "for i in range(10):\n",
    "    if(i%2 == 0):\n",
    "        print(i)"
   ]
  },
  {
   "cell_type": "code",
   "execution_count": 11,
   "id": "ffde07cc-2663-4420-bfa9-2ce8d34d4437",
   "metadata": {},
   "outputs": [
    {
     "name": "stdout",
     "output_type": "stream",
     "text": [
      "9 is the largest number in the list\n",
      "8 is the largest number in the list\n"
     ]
    }
   ],
   "source": [
    "#program that finds the largest number in a list.\n",
    "x=[2,9,6,4,6,8]\n",
    "max=x[0]\n",
    "for i in x:\n",
    "    if i > max :\n",
    "        max=i\n",
    "print(f'{max} is the largest number in the list')\n",
    "#second maximum\n",
    "x.sort()\n",
    "print(f'{x[-2]} is the largest number in the list')"
   ]
  },
  {
   "cell_type": "code",
   "execution_count": 8,
   "id": "da2bea19-fa50-44c1-a1f7-818c75f42d2e",
   "metadata": {},
   "outputs": [
    {
     "name": "stdin",
     "output_type": "stream",
     "text": [
      "Enter year 1700\n"
     ]
    },
    {
     "name": "stdout",
     "output_type": "stream",
     "text": [
      "1700 is not a Leap\n"
     ]
    }
   ],
   "source": [
    "#program that takes a year as input and checks if it is a leap year or not\n",
    "year=int(input(\"Enter year\"))\n",
    "if (year % 4 == 0 and year % 100 != 0) or (year % 400 == 0):\n",
    "    print(f'{year} is Leap year')\n",
    "else:\n",
    "    print(f'{year} is not a Leap')\n",
    "    \n"
   ]
  },
  {
   "cell_type": "code",
   "execution_count": 25,
   "id": "1fe1c419-4b1e-49f0-9c7f-9f833fbe834d",
   "metadata": {},
   "outputs": [
    {
     "name": "stdin",
     "output_type": "stream",
     "text": [
      "Enter number 15\n"
     ]
    },
    {
     "name": "stdout",
     "output_type": "stream",
     "text": [
      "prime\n"
     ]
    }
   ],
   "source": [
    "#Write a Python program to check if a given number is a prime number\n",
    "num=int(input(\"Enter number\"))\n",
    "n=int(num/2)\n",
    "flag=1\n",
    "for i in range(2,n+1):\n",
    "    if(num%2 == 0):\n",
    "        flag=0\n",
    "        continue\n",
    "if flag==0 or num==0 or num ==1 :\n",
    "    print(\" not Prime\")\n",
    "else:\n",
    "    print(\"prime\")\n",
    "        "
   ]
  },
  {
   "cell_type": "code",
   "execution_count": 31,
   "id": "a20b9179-2b4a-4a00-8755-012b7042e1ce",
   "metadata": {},
   "outputs": [
    {
     "name": "stdin",
     "output_type": "stream",
     "text": [
      "Enter number 7\n"
     ]
    },
    {
     "name": "stdout",
     "output_type": "stream",
     "text": [
      "0\n",
      "1\n",
      "1\n",
      "2\n",
      "3\n",
      "5\n",
      "8\n",
      "13\n",
      "21\n"
     ]
    }
   ],
   "source": [
    "#Create a program that generates the Fibonacci sequence up to a given number of terms\n",
    "num= int(input(\"Enter number\"))\n",
    "f1=0\n",
    "f2=1\n",
    "print(f1)\n",
    "print(f2)\n",
    "for i in range(num):\n",
    "    f3=f2+f1\n",
    "    print(f3) \n",
    "    f1=f2\n",
    "    f2=f3"
   ]
  },
  {
   "cell_type": "code",
   "execution_count": 34,
   "id": "ef5ae752-b1ba-408a-b58f-819cd6fb6b17",
   "metadata": {},
   "outputs": [
    {
     "name": "stdout",
     "output_type": "stream",
     "text": [
      "anil\n",
      "arban\n",
      "ashiv\n"
     ]
    }
   ],
   "source": [
    "#Given a list of names, print all names starting with the letter 'A'/\n",
    "list1=['anil', 'sita', 'reeta', 'arban' ,'ashiv']\n",
    "alpha='A'\n",
    "for i in list1:\n",
    "    if i.startswith(alpha.lower()):\n",
    "        print(i)\n"
   ]
  },
  {
   "cell_type": "code",
   "execution_count": 39,
   "id": "64dfb1c9-34d9-43c5-aabe-9613650c6e90",
   "metadata": {},
   "outputs": [
    {
     "name": "stdout",
     "output_type": "stream",
     "text": [
      "anil\n",
      "arban\n",
      "ashiv\n"
     ]
    }
   ],
   "source": [
    "##Given a list of names, print all names starting with the letter 'A'\n",
    "list1=['anil', 'sita', 'reeta', 'arban' ,'ashiv']\n",
    "alpha='A'\n",
    "for i in list1:\n",
    "    if i[0]==alpha.lower():\n",
    "        print(i)"
   ]
  },
  {
   "cell_type": "code",
   "execution_count": 42,
   "id": "32beaac5-855f-45fc-a338-d8028c76bee8",
   "metadata": {},
   "outputs": [
    {
     "name": "stdin",
     "output_type": "stream",
     "text": [
      "Enter number 5\n"
     ]
    },
    {
     "name": "stdout",
     "output_type": "stream",
     "text": [
      "5 * 1 = 5\n",
      "5 * 2 = 10\n",
      "5 * 3 = 15\n",
      "5 * 4 = 20\n",
      "5 * 5 = 25\n",
      "5 * 6 = 30\n",
      "5 * 7 = 35\n",
      "5 * 8 = 40\n",
      "5 * 9 = 45\n",
      "5 * 10 = 50\n"
     ]
    }
   ],
   "source": [
    "#Implement a program that prints the multiplication table of a given number/\n",
    "num= int(input(\"Enter number\"))\n",
    "for i in range(1,11):\n",
    "    print(f'{num} * {i} = {num*i}')"
   ]
  },
  {
   "cell_type": "code",
   "execution_count": 49,
   "id": "c97d7560-5ea6-4b45-b697-abb48c0fcc5a",
   "metadata": {},
   "outputs": [
    {
     "name": "stdin",
     "output_type": "stream",
     "text": [
      "Enter number 5\n"
     ]
    },
    {
     "name": "stdout",
     "output_type": "stream",
     "text": [
      "factorial of 5 = 120\n"
     ]
    }
   ],
   "source": [
    "#Write a program that calculates the factorial of a given number/\n",
    "num= int(input(\"Enter number\"))\n",
    "fact=1\n",
    "if num >=1:\n",
    "    for i in range(1,num+1):\n",
    "        fact=fact*i\n",
    "print(f'factorial of {num} = {fact}')\n",
    "    "
   ]
  },
  {
   "cell_type": "code",
   "execution_count": 50,
   "id": "b5a3c546-b66f-4658-8bf9-a754ba39cde1",
   "metadata": {},
   "outputs": [
    {
     "name": "stdout",
     "output_type": "stream",
     "text": [
      "even number list: [2, 8, 4, 52, 4]\n"
     ]
    }
   ],
   "source": [
    "#Given a list of integers, find all the even numbers and store them in a new list\n",
    "list1=[2,3,5,67,87,8,4,55,52,4]\n",
    "new_list=[]\n",
    "for i in list1:\n",
    "    if i%2 == 0:\n",
    "        new_list.append(i)\n",
    "\n",
    "print(f'even number list: {new_list}')"
   ]
  },
  {
   "cell_type": "code",
   "execution_count": 56,
   "id": "03c52a33-2a38-4edd-8e38-ab8ba3c07c3a",
   "metadata": {},
   "outputs": [
    {
     "name": "stdin",
     "output_type": "stream",
     "text": [
      "enter the lower range value 1\n",
      "enter the upper range value 20\n"
     ]
    },
    {
     "name": "stdout",
     "output_type": "stream",
     "text": [
      "2\n",
      "3\n",
      "5\n",
      "7\n",
      "11\n",
      "13\n",
      "17\n",
      "19\n"
     ]
    }
   ],
   "source": [
    "#Create a loop that prints all prime numbers between 1 and 50/\n",
    "lower=int(input(\"enter the lower range value\"))\n",
    "upper=int(input(\"enter the upper range value\"))\n",
    "for n in range(lower, upper+1):\n",
    "    if n>1:\n",
    "        for i in range(2,n): \n",
    "            if(n % i) == 0:\n",
    "                break\n",
    "        else:\n",
    "            print(n)"
   ]
  },
  {
   "cell_type": "code",
   "execution_count": null,
   "id": "ebd92321-136c-4272-8632-ea0ae8101318",
   "metadata": {},
   "outputs": [],
   "source": [
    "#Given a list of words, count the number of words with more than five characters/\n",
    "words=[\"ajbjv\",\"ahhjfkf\",\"hhfjhrk\",\"egffuefh\",\"gdh\",\"gfvjfbjb\"]\n",
    "count=0\n",
    "for word in words:\n",
    "    if len(word)>5:\n",
    "        count=count+1\n",
    "print(count)\n",
    "    "
   ]
  },
  {
   "cell_type": "code",
   "execution_count": null,
   "id": "b64655a7-afb0-441d-916d-eac3d27720ca",
   "metadata": {
    "scrolled": true
   },
   "outputs": [],
   "source": []
  },
  {
   "cell_type": "code",
   "execution_count": null,
   "id": "421d567e-44fd-4c87-b23e-a107980ae0dd",
   "metadata": {},
   "outputs": [],
   "source": [
    "# Calculate the sum of digits of a given number\n",
    "num=int(input(\"enter the value\"))\n",
    "sum=0\n",
    "while(num > 0):\n",
    "    sum= sum+(num%10)\n",
    "    num=n//10\n",
    "print(f'sum of digits of a given number : {sum}')\n"
   ]
  },
  {
   "cell_type": "code",
   "execution_count": null,
   "id": "1fe1cb09-12fe-461c-b5b9-6e3ba37d868a",
   "metadata": {},
   "outputs": [],
   "source": []
  }
 ],
 "metadata": {
  "kernelspec": {
   "display_name": "Python 3 (ipykernel)",
   "language": "python",
   "name": "python3"
  },
  "language_info": {
   "codemirror_mode": {
    "name": "ipython",
    "version": 3
   },
   "file_extension": ".py",
   "mimetype": "text/x-python",
   "name": "python",
   "nbconvert_exporter": "python",
   "pygments_lexer": "ipython3",
   "version": "3.11.5"
  }
 },
 "nbformat": 4,
 "nbformat_minor": 5
}
