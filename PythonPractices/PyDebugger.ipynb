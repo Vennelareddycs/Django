{
 "cells": [
  {
   "cell_type": "code",
   "execution_count": 2,
   "id": "6bd646bc-4618-4e60-a442-1fcfaf5e2075",
   "metadata": {},
   "outputs": [
    {
     "name": "stdout",
     "output_type": "stream",
     "text": [
      "5\n"
     ]
    },
    {
     "ename": "TypeError",
     "evalue": "can only concatenate list (not \"int\") to list",
     "output_type": "error",
     "traceback": [
      "\u001b[1;31m---------------------------------------------------------------------------\u001b[0m",
      "\u001b[1;31mTypeError\u001b[0m                                 Traceback (most recent call last)",
      "Cell \u001b[1;32mIn[2], line 6\u001b[0m\n\u001b[0;32m      4\u001b[0m result\u001b[38;5;241m=\u001b[39m y\u001b[38;5;241m+\u001b[39mz\n\u001b[0;32m      5\u001b[0m \u001b[38;5;28mprint\u001b[39m(result)\n\u001b[1;32m----> 6\u001b[0m result2\u001b[38;5;241m=\u001b[39m\u001b[43mx\u001b[49m\u001b[38;5;241;43m+\u001b[39;49m\u001b[43my\u001b[49m\n\u001b[0;32m      7\u001b[0m \u001b[38;5;28mprint\u001b[39m(result2)\n",
      "\u001b[1;31mTypeError\u001b[0m: can only concatenate list (not \"int\") to list"
     ]
    }
   ],
   "source": [
    "x = [1,2,3]\n",
    "y=2\n",
    "z=3\n",
    "result= y+z\n",
    "print(result)\n",
    "result2=x+y\n",
    "print(result2)"
   ]
  },
  {
   "cell_type": "code",
   "execution_count": 3,
   "id": "4a3f9e9e-5a08-4aa8-be5e-b534afe2465f",
   "metadata": {},
   "outputs": [],
   "source": []
  },
  {
   "cell_type": "code",
   "execution_count": 2,
   "id": "de239e49-a12a-474d-8a40-83aa206e61ce",
   "metadata": {},
   "outputs": [],
   "source": [
    "import pdb"
   ]
  },
  {
   "cell_type": "code",
   "execution_count": 3,
   "id": "9cfdbb7f-c100-4b67-a362-3bdad9dc185c",
   "metadata": {},
   "outputs": [
    {
     "name": "stdout",
     "output_type": "stream",
     "text": [
      "--Return--\n",
      "None\n",
      "> \u001b[1;32mc:\\users\\venncs\\appdata\\local\\temp\\ipykernel_11556\\3856521752.py\u001b[0m(5)\u001b[0;36m<module>\u001b[1;34m()\u001b[0m\n",
      "\n"
     ]
    },
    {
     "name": "stdin",
     "output_type": "stream",
     "text": [
      "ipdb>  x\n"
     ]
    },
    {
     "name": "stdout",
     "output_type": "stream",
     "text": [
      "[1, 2, 3]\n"
     ]
    },
    {
     "name": "stdin",
     "output_type": "stream",
     "text": [
      "ipdb>  y\n"
     ]
    },
    {
     "name": "stdout",
     "output_type": "stream",
     "text": [
      "2\n"
     ]
    },
    {
     "name": "stdin",
     "output_type": "stream",
     "text": [
      "ipdb>  z\n"
     ]
    },
    {
     "name": "stdout",
     "output_type": "stream",
     "text": [
      "3\n"
     ]
    },
    {
     "name": "stdin",
     "output_type": "stream",
     "text": [
      "ipdb>  q\n"
     ]
    }
   ],
   "source": [
    "x = [1,2,3]\n",
    "y=2\n",
    "z=3\n",
    "re1= y+ z\n",
    "pdb.set_trace()\n",
    "re2=x+y"
   ]
  },
  {
   "cell_type": "code",
   "execution_count": 8,
   "id": "3a69a028-d9e0-421a-8974-306b1c6f641d",
   "metadata": {},
   "outputs": [
    {
     "name": "stdout",
     "output_type": "stream",
     "text": [
      "An error occurred: division by zero\n"
     ]
    }
   ],
   "source": [
    "def divide(a, b):\n",
    "    #import pdb; pdb.set_trace()\n",
    "    result = a / b\n",
    "    return result\n",
    "\n",
    "num1 = 10\n",
    "num2 = 0\n",
    "\n",
    "try:\n",
    "    result = divide(num1, num2)\n",
    "except Exception as e:\n",
    "    print(f\"An error occurred: {e}\")"
   ]
  },
  {
   "cell_type": "code",
   "execution_count": 9,
   "id": "86496e79-5528-489d-ad3a-a624b1f98283",
   "metadata": {},
   "outputs": [],
   "source": [
    "#Timing your python code"
   ]
  },
  {
   "cell_type": "code",
   "execution_count": 15,
   "id": "863fd2f4-fa21-4a92-8525-2ea4b9df3630",
   "metadata": {},
   "outputs": [],
   "source": [
    "def func1(num):\n",
    "    return [str(num) for num in range(num)]"
   ]
  },
  {
   "cell_type": "code",
   "execution_count": 16,
   "id": "592b2fa4-f8cb-4bcb-bf52-ec49f186163f",
   "metadata": {},
   "outputs": [],
   "source": [
    "def func2(n):\n",
    "    return list(map(str,range(n)))"
   ]
  },
  {
   "cell_type": "code",
   "execution_count": 17,
   "id": "bb22edd0-4ba3-405a-943c-4a849a371c20",
   "metadata": {},
   "outputs": [],
   "source": [
    "import time"
   ]
  },
  {
   "cell_type": "code",
   "execution_count": 18,
   "id": "4254ff1c-ffa7-4b1f-9d9d-c15a9ff63b07",
   "metadata": {},
   "outputs": [
    {
     "name": "stdout",
     "output_type": "stream",
     "text": [
      "0.026544809341430664\n"
     ]
    }
   ],
   "source": [
    "start_time = time.time()\n",
    "result = func1(100000)\n",
    "end_time=time.time()\n",
    "elapsed_time= end_time - start_time\n",
    "print(elapsed_time)"
   ]
  },
  {
   "cell_type": "code",
   "execution_count": 19,
   "id": "674ad845-c61f-45a9-bba8-9c84e8289367",
   "metadata": {},
   "outputs": [
    {
     "name": "stdout",
     "output_type": "stream",
     "text": [
      "0.034978628158569336\n"
     ]
    }
   ],
   "source": [
    "start_time = time.time()\n",
    "result = func2(100000)\n",
    "end_time=time.time()\n",
    "elapsed_time= end_time - start_time\n",
    "print(elapsed_time)"
   ]
  },
  {
   "cell_type": "code",
   "execution_count": 52,
   "id": "dcfbc952-49bb-45e3-b5d2-2c4de9f2d1e7",
   "metadata": {},
   "outputs": [],
   "source": [
    "import timeit"
   ]
  },
  {
   "cell_type": "code",
   "execution_count": 53,
   "id": "bf81e986-8f6d-4a6b-8b59-fd85126a2224",
   "metadata": {},
   "outputs": [],
   "source": [
    "stmt='''\n",
    "func1(100)\n",
    "'''"
   ]
  },
  {
   "cell_type": "code",
   "execution_count": 54,
   "id": "9e14d80d-0723-4f95-a0a0-fe7fb3baada5",
   "metadata": {},
   "outputs": [],
   "source": [
    "setup = '''\n",
    "def func1(num):\n",
    "    return [str(num) for num in range(num)]\n",
    "'''"
   ]
  },
  {
   "cell_type": "code",
   "execution_count": 55,
   "id": "d7599dc0-47af-4e20-ba53-473f8915c38c",
   "metadata": {},
   "outputs": [
    {
     "data": {
      "text/plain": [
       "9.483398100000159"
      ]
     },
     "execution_count": 55,
     "metadata": {},
     "output_type": "execute_result"
    }
   ],
   "source": [
    "timeit.timeit(stmt, setup, number=1000000)"
   ]
  },
  {
   "cell_type": "code",
   "execution_count": 56,
   "id": "adc6b986-5e24-4d33-9e46-bf5a086b611a",
   "metadata": {},
   "outputs": [],
   "source": [
    "stmt2='''\n",
    "func2(100)\n",
    "'''"
   ]
  },
  {
   "cell_type": "code",
   "execution_count": 50,
   "id": "0fcc2bbf-58ef-4f0f-bd31-b1c6d2aa17d8",
   "metadata": {},
   "outputs": [],
   "source": [
    "setup2= '''\n",
    "def func2(n):\n",
    "    return list(map(str,range(n)))\n",
    "'''"
   ]
  },
  {
   "cell_type": "code",
   "execution_count": 51,
   "id": "974641c2-4c2a-4e49-a857-9a344ac289c6",
   "metadata": {},
   "outputs": [
    {
     "data": {
      "text/plain": [
       "10.156820700000026"
      ]
     },
     "execution_count": 51,
     "metadata": {},
     "output_type": "execute_result"
    }
   ],
   "source": [
    "timeit.timeit(stmt2, setup2, number=1000000)"
   ]
  },
  {
   "cell_type": "code",
   "execution_count": 58,
   "id": "c5846659-9e9c-4e5c-b8a4-b95017e803f2",
   "metadata": {},
   "outputs": [
    {
     "name": "stdin",
     "output_type": "stream",
     "text": [
      " 23\n"
     ]
    },
    {
     "name": "stdout",
     "output_type": "stream",
     "text": [
      "5\n"
     ]
    }
   ],
   "source": [
    "two_digit_number =input()\n",
    "# 🚨 Don't change the code above 👆\n",
    "####################################\n",
    "# Write your code below this line 👇\n",
    "\n",
    "sum=0\n",
    "for i in two_digit_number:\n",
    "  sum= sum+int( i)\n",
    "\n",
    "print(sum)"
   ]
  },
  {
   "cell_type": "code",
   "execution_count": 60,
   "id": "52e0bc07-c38c-4707-9cf5-33687ee1ccd8",
   "metadata": {},
   "outputs": [
    {
     "ename": "SyntaxError",
     "evalue": "invalid syntax. Perhaps you forgot a comma? (1924956362.py, line 1)",
     "output_type": "error",
     "traceback": [
      "\u001b[1;36m  Cell \u001b[1;32mIn[60], line 1\u001b[1;36m\u001b[0m\n\u001b[1;33m    print(' print('what to print') ')\u001b[0m\n\u001b[1;37m          ^\u001b[0m\n\u001b[1;31mSyntaxError\u001b[0m\u001b[1;31m:\u001b[0m invalid syntax. Perhaps you forgot a comma?\n"
     ]
    }
   ],
   "source": [
    "print('print(\\'what to print\\') ')"
   ]
  },
  {
   "cell_type": "code",
   "execution_count": null,
   "id": "7ee83191-727f-4d50-9edb-71d454a666b5",
   "metadata": {},
   "outputs": [],
   "source": [
    "source_file_path = \"test.txt\""
   ]
  }
 ],
 "metadata": {
  "kernelspec": {
   "display_name": "Python 3 (ipykernel)",
   "language": "python",
   "name": "python3"
  },
  "language_info": {
   "codemirror_mode": {
    "name": "ipython",
    "version": 3
   },
   "file_extension": ".py",
   "mimetype": "text/x-python",
   "name": "python",
   "nbconvert_exporter": "python",
   "pygments_lexer": "ipython3",
   "version": "3.11.5"
  }
 },
 "nbformat": 4,
 "nbformat_minor": 5
}
