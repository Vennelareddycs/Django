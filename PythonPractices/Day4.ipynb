{
 "cells": [
  {
   "cell_type": "code",
   "execution_count": 12,
   "id": "416c76bc-2912-4f26-9965-f53db880ad55",
   "metadata": {},
   "outputs": [
    {
     "data": {
      "text/plain": [
       "'a_b_c'"
      ]
     },
     "execution_count": 12,
     "metadata": {},
     "output_type": "execute_result"
    }
   ],
   "source": [
    "my_list=['a','b','c']\n",
    "'_'.join(my_list)"
   ]
  },
  {
   "cell_type": "code",
   "execution_count": 1,
   "id": "6fc193ec-d8f8-409b-90de-2c02ecde6154",
   "metadata": {},
   "outputs": [
    {
     "data": {
      "text/plain": [
       "'my name is'"
      ]
     },
     "execution_count": 1,
     "metadata": {},
     "output_type": "execute_result"
    }
   ],
   "source": [
    "list1=['my','name','is']\n",
    "' '.join(list1)"
   ]
  },
  {
   "cell_type": "code",
   "execution_count": 3,
   "id": "d542c7ab-1664-4187-98d0-59dfe0a726c1",
   "metadata": {},
   "outputs": [
    {
     "data": {
      "text/plain": [
       "'HHHeeellllllooo'"
      ]
     },
     "execution_count": 3,
     "metadata": {},
     "output_type": "execute_result"
    }
   ],
   "source": [
    "def paper_doll(text):\n",
    "    result=''\n",
    "    for letter in text:\n",
    "        result=result+letter*3\n",
    "    return result\n",
    "paper_doll('Hello')"
   ]
  },
  {
   "cell_type": "code",
   "execution_count": 6,
   "id": "98fe6b0d-450c-4800-a708-a4d194f464c8",
   "metadata": {},
   "outputs": [
    {
     "name": "stdout",
     "output_type": "stream",
     "text": [
      "The youngest child is Gin\n"
     ]
    }
   ],
   "source": [
    "def my_function(*kids):\n",
    "  print(\"The youngest child is \" + kids[3])\n",
    "\n",
    "my_function(\"Emil\", \"Tobias\", \"Linus\",\"Gin\")"
   ]
  },
  {
   "cell_type": "code",
   "execution_count": 5,
   "id": "fdf827d1-34e2-407f-9a7b-322f02d337d7",
   "metadata": {},
   "outputs": [
    {
     "name": "stdout",
     "output_type": "stream",
     "text": [
      "His name is apple\n"
     ]
    }
   ],
   "source": [
    "def my_function(**kid):\n",
    "    print(\"His name is \" + kid[\"name\"])\n",
    "    \n",
    "my_function(fname = \"Tobias\", lname = \"Refsnes\", name=\"apple\")\n",
    "\n"
   ]
  },
  {
   "cell_type": "code",
   "execution_count": 8,
   "id": "d36e8daf-ca82-4786-b2d7-13b6f55a6435",
   "metadata": {},
   "outputs": [
    {
     "name": "stdout",
     "output_type": "stream",
     "text": [
      "arg1: Geeks\n",
      "arg2: for\n",
      "arg3: Geeks\n",
      "arg4: multi\n"
     ]
    }
   ],
   "source": [
    "\n",
    "def myFun(arg1, arg2, arg3,arg4):\n",
    "    print(\"arg1:\", arg1)\n",
    "    print(\"arg2:\", arg2)\n",
    "    print(\"arg3:\", arg3)\n",
    "    print(\"arg4:\",arg4)\n",
    "args = (\"Geeks\", \"for\", \"Geeks\",\"multi\")\n",
    "myFun(*args)\n",
    " "
   ]
  },
  {
   "cell_type": "code",
   "execution_count": 1,
   "id": "88179266-2f21-42a2-9104-b30c3268d59e",
   "metadata": {},
   "outputs": [
    {
     "name": "stdout",
     "output_type": "stream",
     "text": [
      "arg1: apple\n",
      "arg2: for\n",
      "arg3: carrot\n"
     ]
    }
   ],
   "source": [
    "def myFun(arg1, arg2, arg3):\n",
    "    print(\"arg1:\", arg1)\n",
    "    print(\"arg2:\", arg2)\n",
    "    print(\"arg3:\", arg3)\n",
    "\n",
    "kwargs = {\"arg1\": \"apple\", \"arg2\": \"for\", \"arg3\": \"carrot\"}\n",
    "myFun(**kwargs)"
   ]
  },
  {
   "cell_type": "code",
   "execution_count": 10,
   "id": "4c07279d-8c7c-4190-a3d3-d7c597b87862",
   "metadata": {},
   "outputs": [
    {
     "name": "stdout",
     "output_type": "stream",
     "text": [
      "1\n",
      "9\n",
      "25\n",
      "49\n"
     ]
    }
   ],
   "source": [
    "def square(num):\n",
    "    return num**2\n",
    "nums_list=[1,3,5,7]\n",
    "for item in map(square,nums_list):\n",
    "    print(item)\n",
    "    "
   ]
  },
  {
   "cell_type": "code",
   "execution_count": 8,
   "id": "21ba133c-6984-45dc-a670-604c39530a00",
   "metadata": {},
   "outputs": [
    {
     "name": "stdout",
     "output_type": "stream",
     "text": [
      "[2, 4, 6, 8]\n"
     ]
    }
   ],
   "source": [
    "def addition(n):\n",
    "    return n+n\n",
    "numbers=(1,2,3,4)\n",
    "result=map(addition,numbers)\n",
    "print(list(result))"
   ]
  },
  {
   "cell_type": "code",
   "execution_count": 13,
   "id": "15b305b9-0041-402d-81a2-014f04201e5d",
   "metadata": {},
   "outputs": [],
   "source": [
    "def check_even(num):\n",
    "    return num%2 == 0"
   ]
  },
  {
   "cell_type": "code",
   "execution_count": 14,
   "id": "8ff67fe6-fb38-4ea8-9cf3-82263b892ed5",
   "metadata": {},
   "outputs": [],
   "source": [
    "mynums=[1,2,3,4,5,9]"
   ]
  },
  {
   "cell_type": "code",
   "execution_count": 16,
   "id": "bfa27574-e6eb-487c-bf50-cfcda8a67d68",
   "metadata": {},
   "outputs": [
    {
     "data": {
      "text/plain": [
       "<filter at 0x21872df4b20>"
      ]
     },
     "execution_count": 16,
     "metadata": {},
     "output_type": "execute_result"
    }
   ],
   "source": [
    "filter(check_even, mynums)"
   ]
  },
  {
   "cell_type": "code",
   "execution_count": 17,
   "id": "9451b03f-9d73-4b84-ac58-11c4d712faab",
   "metadata": {},
   "outputs": [
    {
     "data": {
      "text/plain": [
       "[2, 4]"
      ]
     },
     "execution_count": 17,
     "metadata": {},
     "output_type": "execute_result"
    }
   ],
   "source": [
    "list(filter(check_even, mynums))"
   ]
  },
  {
   "cell_type": "code",
   "execution_count": 20,
   "id": "5f9d80b4-3436-4471-afd0-b0d9b120f0f6",
   "metadata": {},
   "outputs": [
    {
     "name": "stdout",
     "output_type": "stream",
     "text": [
      "e\n",
      "a\n",
      "u\n"
     ]
    }
   ],
   "source": [
    "def fun(name):\n",
    "    letters=['a','e','i','o','u']\n",
    "    if  name in letters:\n",
    "        return True\n",
    "    else:\n",
    "        return False\n",
    "sequence=['e','f','t','a','u']\n",
    "filtered=filter(fun,sequence)\n",
    "for s in filtered:\n",
    "    print(s)\n"
   ]
  },
  {
   "cell_type": "code",
   "execution_count": 22,
   "id": "84f2588f-1677-45f2-aa75-e2801301a46b",
   "metadata": {},
   "outputs": [],
   "source": [
    "square = lambda num: num** 2"
   ]
  },
  {
   "cell_type": "code",
   "execution_count": 23,
   "id": "f5a70880-11e5-4724-af96-dd93afdb89fa",
   "metadata": {},
   "outputs": [
    {
     "data": {
      "text/plain": [
       "36"
      ]
     },
     "execution_count": 23,
     "metadata": {},
     "output_type": "execute_result"
    }
   ],
   "source": [
    "square(6)"
   ]
  },
  {
   "cell_type": "code",
   "execution_count": 5,
   "id": "3e9c6a79-a955-4d57-ba9e-874dc481b6dd",
   "metadata": {},
   "outputs": [
    {
     "data": {
      "text/plain": [
       "[4, 25, 49, 81]"
      ]
     },
     "execution_count": 5,
     "metadata": {},
     "output_type": "execute_result"
    }
   ],
   "source": [
    "nums=[2,5,7,9]\n",
    "list(map(lambda num: num**2, nums))"
   ]
  },
  {
   "cell_type": "code",
   "execution_count": 26,
   "id": "8f110462-45b7-48b0-9c45-f2eda965a37c",
   "metadata": {},
   "outputs": [
    {
     "data": {
      "text/plain": [
       "[2]"
      ]
     },
     "execution_count": 26,
     "metadata": {},
     "output_type": "execute_result"
    }
   ],
   "source": [
    "list(filter(lambda num: num%2 == 0, nums))"
   ]
  },
  {
   "cell_type": "code",
   "execution_count": 30,
   "id": "329071d2-7f87-4e0c-a5b6-cf2f3826f8aa",
   "metadata": {},
   "outputs": [
    {
     "data": {
      "text/plain": [
       "['k', 'a', 'o']"
      ]
     },
     "execution_count": 30,
     "metadata": {},
     "output_type": "execute_result"
    }
   ],
   "source": [
    "names=['kavya','apple','oeanhe']\n",
    "list(map(lambda x:x[0],names))"
   ]
  },
  {
   "cell_type": "code",
   "execution_count": 28,
   "id": "4b3d1006-0827-40c6-a94e-7e50eb9fae05",
   "metadata": {},
   "outputs": [
    {
     "data": {
      "text/plain": [
       "['ayvak', 'elppa', 'ehnaeo']"
      ]
     },
     "execution_count": 28,
     "metadata": {},
     "output_type": "execute_result"
    }
   ],
   "source": [
    "list(map(lambda x:x[::-1],names))"
   ]
  },
  {
   "cell_type": "code",
   "execution_count": 31,
   "id": "0f64bcae-6da7-4883-8ec6-eff9124dede3",
   "metadata": {},
   "outputs": [
    {
     "name": "stdout",
     "output_type": "stream",
     "text": [
      "15\n"
     ]
    }
   ],
   "source": [
    "x = lambda a : a + 10\n",
    "print(x(5))"
   ]
  },
  {
   "cell_type": "code",
   "execution_count": 32,
   "id": "e9c3c4f7-8159-4481-a767-983674b062c0",
   "metadata": {},
   "outputs": [
    {
     "name": "stdout",
     "output_type": "stream",
     "text": [
      "24\n"
     ]
    }
   ],
   "source": [
    "x= lambda a,b : a*b\n",
    "print(x(4,6))"
   ]
  },
  {
   "cell_type": "code",
   "execution_count": 34,
   "id": "402273a7-baf0-46aa-8bff-a3d7607f9729",
   "metadata": {},
   "outputs": [
    {
     "name": "stdout",
     "output_type": "stream",
     "text": [
      "25\n"
     ]
    }
   ],
   "source": [
    "x= 25\n",
    "def printer():\n",
    "    x=50\n",
    "    return x\n",
    "print(x)"
   ]
  },
  {
   "cell_type": "code",
   "execution_count": 35,
   "id": "3c2ce073-ed69-432f-9df1-50a02cf4d99b",
   "metadata": {},
   "outputs": [
    {
     "name": "stdout",
     "output_type": "stream",
     "text": [
      "50\n"
     ]
    }
   ],
   "source": [
    "print(printer())"
   ]
  },
  {
   "cell_type": "code",
   "execution_count": null,
   "id": "a75ac6c4-931f-4d91-9371-0ca7e74bbbac",
   "metadata": {},
   "outputs": [],
   "source": []
  }
 ],
 "metadata": {
  "kernelspec": {
   "display_name": "Python 3 (ipykernel)",
   "language": "python",
   "name": "python3"
  },
  "language_info": {
   "codemirror_mode": {
    "name": "ipython",
    "version": 3
   },
   "file_extension": ".py",
   "mimetype": "text/x-python",
   "name": "python",
   "nbconvert_exporter": "python",
   "pygments_lexer": "ipython3",
   "version": "3.11.5"
  }
 },
 "nbformat": 4,
 "nbformat_minor": 5
}
