{
 "cells": [
  {
   "cell_type": "code",
   "execution_count": 2,
   "id": "55f2d241-8920-4ce6-9336-ae9484235041",
   "metadata": {},
   "outputs": [
    {
     "data": {
      "text/plain": [
       "{'name': 'sam', 'age': 20, 'address': 'bangalore'}"
      ]
     },
     "execution_count": 2,
     "metadata": {},
     "output_type": "execute_result"
    }
   ],
   "source": [
    "#Create a dictionary to store information about a person (name, age, address).\n",
    "dict1={'name':'sam','age':20,'address':'bangalore'}\n",
    "dict1"
   ]
  },
  {
   "cell_type": "code",
   "execution_count": 3,
   "id": "366ed768-f79c-45df-b08d-fb01b54acfbb",
   "metadata": {},
   "outputs": [
    {
     "data": {
      "text/plain": [
       "{'firstname': 'sam', 'age': 20, 'address': 'bangalore', 'lastname': 'ravendra'}"
      ]
     },
     "execution_count": 3,
     "metadata": {},
     "output_type": "execute_result"
    }
   ],
   "source": [
    "# Add a new key-value pair to an existing dictionary.\n",
    "dict1={'firstname':'sam','age':20,'address':'bangalore'}\n",
    "dict1.update({'lastname':'ravendra'})\n",
    "dict1"
   ]
  },
  {
   "cell_type": "code",
   "execution_count": 4,
   "id": "a1a6c136-9973-46d0-a706-430b8879ef50",
   "metadata": {},
   "outputs": [
    {
     "name": "stdout",
     "output_type": "stream",
     "text": [
      "{2, 3, 4, 5, 6, 7}\n"
     ]
    }
   ],
   "source": [
    "# Create a set of unique numbers from a list of numbers.\n",
    "list1=[2,3,4,3,5,3,6,7,4,2]\n",
    "print(set(list1))"
   ]
  },
  {
   "cell_type": "code",
   "execution_count": null,
   "id": "e136b80b-69c7-4e63-bdd5-40cca7d39e54",
   "metadata": {},
   "outputs": [],
   "source": []
  }
 ],
 "metadata": {
  "kernelspec": {
   "display_name": "Python 3 (ipykernel)",
   "language": "python",
   "name": "python3"
  },
  "language_info": {
   "codemirror_mode": {
    "name": "ipython",
    "version": 3
   },
   "file_extension": ".py",
   "mimetype": "text/x-python",
   "name": "python",
   "nbconvert_exporter": "python",
   "pygments_lexer": "ipython3",
   "version": "3.11.5"
  }
 },
 "nbformat": 4,
 "nbformat_minor": 5
}
