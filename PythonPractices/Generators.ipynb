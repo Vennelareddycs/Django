{
 "cells": [
  {
   "cell_type": "code",
   "execution_count": 3,
   "id": "de2fbcf3-b2b7-4db5-9ccd-787bf379261a",
   "metadata": {},
   "outputs": [
    {
     "name": "stdout",
     "output_type": "stream",
     "text": [
      "The square of numbers 1,2,3 are : \n",
      "1\n",
      "4\n",
      "9\n"
     ]
    }
   ],
   "source": [
    "def sq_numbers(n):\n",
    "    for i in range(1, n+1):\n",
    "        yield i*i\n",
    "  \n",
    "  \n",
    "a = sq_numbers(10)\n",
    "  \n",
    "print(\"The square of numbers 1,2,3 are : \")\n",
    "print(next(a))\n",
    "print(next(a))\n",
    "print(next(a))"
   ]
  },
  {
   "cell_type": "code",
   "execution_count": 8,
   "id": "9e4cad7d-f158-49d6-9f04-7d69630f7f4e",
   "metadata": {},
   "outputs": [
    {
     "name": "stdout",
     "output_type": "stream",
     "text": [
      "0\n",
      "1\n",
      "4\n",
      "9\n",
      "16\n"
     ]
    }
   ],
   "source": [
    "def square_generator(max_num):\n",
    "   for i in range(max_num):\n",
    "        yield i*i\n",
    "\n",
    "# Example usage\n",
    "sq_gen = square_generator(5)\n",
    "for num in sq_gen:\n",
    "    print(num)"
   ]
  },
  {
   "cell_type": "code",
   "execution_count": 11,
   "id": "f551d025-5c61-49a3-9298-226da704c736",
   "metadata": {},
   "outputs": [
    {
     "name": "stdout",
     "output_type": "stream",
     "text": [
      "[9, 16, 25]\n"
     ]
    }
   ],
   "source": [
    "def squared(num):\n",
    "    return num*num\n",
    "nums=[3,4,5]\n",
    "sq_num=map(squared,nums)\n",
    "print(list(sq_num))"
   ]
  },
  {
   "cell_type": "code",
   "execution_count": 12,
   "id": "65d1ec0a-bd9b-411d-a19b-ac0d1da26f79",
   "metadata": {},
   "outputs": [
    {
     "name": "stdout",
     "output_type": "stream",
     "text": [
      "[4, 6]\n"
     ]
    }
   ],
   "source": [
    "def check_even(num):\n",
    "    if num % 2 == 0:\n",
    "        return num\n",
    "nums=[3,4,5,6,7]\n",
    "even=filter(check_even, nums)\n",
    "print(list(even))"
   ]
  },
  {
   "cell_type": "code",
   "execution_count": 15,
   "id": "045cd369-5dc4-4ea4-b8d0-c4c04126dd90",
   "metadata": {},
   "outputs": [
    {
     "name": "stdout",
     "output_type": "stream",
     "text": [
      "49\n"
     ]
    }
   ],
   "source": [
    "sq=lambda x:  x**2\n",
    "print(sq(7))"
   ]
  },
  {
   "cell_type": "code",
   "execution_count": 16,
   "id": "4529583b-6a28-4814-9ab6-e252a2e5854c",
   "metadata": {},
   "outputs": [
    {
     "name": "stdout",
     "output_type": "stream",
     "text": [
      "42\n"
     ]
    }
   ],
   "source": [
    "num= lambda x,y : x*y\n",
    "print(num(6,7))"
   ]
  },
  {
   "cell_type": "code",
   "execution_count": 22,
   "id": "f188d7ed-cca9-4e19-9369-11143d6ba6c5",
   "metadata": {},
   "outputs": [
    {
     "data": {
      "text/plain": [
       "[2, 4]"
      ]
     },
     "execution_count": 22,
     "metadata": {},
     "output_type": "execute_result"
    }
   ],
   "source": [
    "nums=[2,3,4,5]\n",
    "list(filter(lambda x: x%2 == 0, nums))\n"
   ]
  },
  {
   "cell_type": "code",
   "execution_count": 23,
   "id": "2f346a6f-4259-4047-8fbc-92c4863b9886",
   "metadata": {},
   "outputs": [
    {
     "data": {
      "text/plain": [
       "[4, 9, 16, 25]"
      ]
     },
     "execution_count": 23,
     "metadata": {},
     "output_type": "execute_result"
    }
   ],
   "source": [
    "nums=[2,3,4,5]\n",
    "list(map(lambda x:x**2, nums))"
   ]
  },
  {
   "cell_type": "code",
   "execution_count": 2,
   "id": "4176b8c9-cb3f-4d79-ab30-99ed4b38202f",
   "metadata": {},
   "outputs": [
    {
     "name": "stdout",
     "output_type": "stream",
     "text": [
      "Before\n",
      "After\n",
      "Result:11\n"
     ]
    }
   ],
   "source": [
    "# Decorator function\n",
    "def my_deco(func):\n",
    "    def wrapper(a,b):\n",
    "        print(\"Before\")\n",
    "        \n",
    "        result=func(a,b)\n",
    "        print(\"After\")\n",
    "        return result\n",
    "    return wrapper\n",
    "\n",
    "@my_deco\n",
    "def add(a,b):\n",
    "    return a+b\n",
    "\n",
    "result=add(7,4)\n",
    "print(f\"Result:{result}\")\n"
   ]
  },
  {
   "cell_type": "code",
   "execution_count": 10,
   "id": "88506877-2d64-45bd-85bc-5153474c3747",
   "metadata": {},
   "outputs": [
    {
     "name": "stdout",
     "output_type": "stream",
     "text": [
      "Before\n",
      "After\n",
      "Time:0.0\n",
      "Result:11\n"
     ]
    }
   ],
   "source": [
    "# Decorator function\n",
    "import time\n",
    "def my_deco(func):\n",
    "    def wrapper(a,b):\n",
    "        print(\"Before\")\n",
    "        start=time.time()\n",
    "        result=func(a,b)\n",
    "        end=time.time()\n",
    "        print(\"After\")\n",
    "        execution_time=end-start\n",
    "        print(f\"Time:{execution_time}\")\n",
    "        return result\n",
    "    return wrapper\n",
    "\n",
    "@my_deco\n",
    "def add(a,b):\n",
    "    return a+b\n",
    "\n",
    "result=add(7,4)\n",
    "print(f\"Result:{result}\")\n"
   ]
  },
  {
   "cell_type": "code",
   "execution_count": 4,
   "id": "b83c636d-dccd-49e3-b6f9-a4ea8600fd89",
   "metadata": {},
   "outputs": [
    {
     "data": {
      "text/plain": [
       "15"
      ]
     },
     "execution_count": 4,
     "metadata": {},
     "output_type": "execute_result"
    }
   ],
   "source": [
    "from functools import reduce\n",
    "\n",
    "numbers = [1, 2, 3, 4, 5]\n",
    "sum = reduce(lambda x, y: x + y, numbers)\n",
    "sum"
   ]
  },
  {
   "cell_type": "code",
   "execution_count": 6,
   "id": "839215f7-f27c-4c42-ba6b-a30edcc3fd78",
   "metadata": {},
   "outputs": [
    {
     "name": "stdout",
     "output_type": "stream",
     "text": [
      "Error: Division by zero!\n",
      "mandatory\n"
     ]
    }
   ],
   "source": [
    "try:\n",
    "    result = 10 / 0\n",
    "except ZeroDivisionError:\n",
    "    print(\"Error: Division by zero!\")\n",
    "else:\n",
    "    print(\"Result:\", result)\n",
    "finally:\n",
    "    print(\"mandatory\")\n"
   ]
  },
  {
   "cell_type": "code",
   "execution_count": 7,
   "id": "4d5f27cf-a1a6-4540-8248-4d3d96c23ff7",
   "metadata": {},
   "outputs": [
    {
     "name": "stdout",
     "output_type": "stream",
     "text": [
      "Result: 5.0\n",
      "mandatory\n"
     ]
    }
   ],
   "source": [
    "try:\n",
    "    result = 10 / 2\n",
    "except ZeroDivisionError:\n",
    "    print(\"Error: Division by zero!\")\n",
    "else:\n",
    "    print(\"Result:\", result)\n",
    "finally:\n",
    "    print(\"mandatory\")"
   ]
  },
  {
   "cell_type": "code",
   "execution_count": null,
   "id": "87f09026-bda2-487c-bce4-10fd0944823d",
   "metadata": {},
   "outputs": [],
   "source": []
  },
  {
   "cell_type": "code",
   "execution_count": 16,
   "id": "99246aa8-3fc6-4cf2-a088-061fcf1a8625",
   "metadata": {},
   "outputs": [
    {
     "name": "stdout",
     "output_type": "stream",
     "text": [
      "Thread 1: 1\n",
      "Thread 2: A\n",
      "Thread 1: 2\n",
      "Thread 2: B\n",
      "Thread 1: 3\n",
      "Thread 1: 4\n",
      "Thread 2: C\n",
      "Thread 1: 5\n",
      "Thread 2: D\n",
      "Thread 2: E\n",
      "Multithreading example completed.\n"
     ]
    }
   ],
   "source": [
    "import threading\n",
    "import time\n",
    "\n",
    "# Function to be executed by the first thread\n",
    "def print_numbers():\n",
    "    for i in range(1, 6):\n",
    "        print(f\"Thread 1: {i}\")\n",
    "        time.sleep(1)  # Sleep for 1 second between prints\n",
    "\n",
    "# Function to be executed by the second thread\n",
    "def print_letters():\n",
    "    for letter in 'ABCDE':\n",
    "        print(f\"Thread 2: {letter}\")\n",
    "        time.sleep(1.5)  # Sleep for 1.5 seconds between prints\n",
    "\n",
    "# Create two threads\n",
    "thread1 = threading.Thread(target=print_numbers)\n",
    "thread2 = threading.Thread(target=print_letters)\n",
    "\n",
    "# Start the threads\n",
    "thread1.start()\n",
    "thread2.start()\n",
    "\n",
    "# Wait for both threads to complete\n",
    "thread1.join()\n",
    "thread2.join()\n",
    "\n",
    "print(\"Multithreading example completed.\")"
   ]
  },
  {
   "cell_type": "code",
   "execution_count": 18,
   "id": "6fe9b5c0-ca3b-4f95-b863-41499c245ba2",
   "metadata": {},
   "outputs": [
    {
     "name": "stdout",
     "output_type": "stream",
     "text": [
      "Full path of the file: C:\\Users\\venncs\\mytest.txt\n"
     ]
    }
   ],
   "source": [
    "import os\n",
    "\n",
    "# Specify the file name with a relative path\n",
    "file_name = \"mytest.txt\"\n",
    "\n",
    "# Get the full path of the file\n",
    "full_path = os.path.abspath(file_name)\n",
    "\n",
    "# Print the full path\n",
    "print(\"Full path of the file:\", full_path)"
   ]
  },
  {
   "cell_type": "code",
   "execution_count": 22,
   "id": "b75db4f4-ae4e-48ed-baa0-a83ec3deee6e",
   "metadata": {},
   "outputs": [],
   "source": [
    "# copy the content of one file to another \n",
    "with open(\"new.txt\",\"r\") as f:\n",
    "    content=f.read()\n",
    "with open(\"destination.txt\",\"w\") as f:\n",
    "    f.write(content)   "
   ]
  },
  {
   "cell_type": "code",
   "execution_count": 21,
   "id": "b136ebd0-c96c-4426-9b8c-36643f9a055a",
   "metadata": {},
   "outputs": [
    {
     "name": "stdout",
     "output_type": "stream",
     "text": [
      "Before\n",
      "After\n",
      "12\n"
     ]
    }
   ],
   "source": [
    "def my_deco(func):\n",
    "    def wrapper(a,b):\n",
    "        print(\"Before\")\n",
    "        result=func(a,b)\n",
    "        print(\"After\")\n",
    "        return result\n",
    "    return wrapper\n",
    "@my_deco\n",
    "def add(a,b):\n",
    "    return a+b\n",
    "\n",
    "result=add(7,5)\n",
    "print(result)"
   ]
  },
  {
   "cell_type": "code",
   "execution_count": 3,
   "id": "6ed44e8b-07c1-46a9-a88f-8d67880614b1",
   "metadata": {},
   "outputs": [
    {
     "name": "stdin",
     "output_type": "stream",
     "text": [
      "Enter an integer:  234\n"
     ]
    },
    {
     "name": "stdout",
     "output_type": "stream",
     "text": [
      "Result: 9\n"
     ]
    }
   ],
   "source": [
    "#1. Take an integer input from user\n",
    "#2. sum all digits of the input and continue until the result becomes a single digit.\n",
    "#3. return the result\n",
    "def sum(func):\n",
    "    def wrapper(num):\n",
    "        while num >= 10:\n",
    "            total = 0\n",
    "            while num > 0:\n",
    "                total += num % 10\n",
    "                num //= 10\n",
    "            num = total\n",
    "        return num\n",
    "    return wrapper\n",
    "\n",
    "# Applying the decorator to the function\n",
    "@sum\n",
    "def sum_digits(num):\n",
    "    return num\n",
    "\n",
    "# Take integer input from the user\n",
    "num = int(input(\"Enter an integer: \"))\n",
    "result = sum_digits(num)\n",
    "print(\"Result:\", result)"
   ]
  },
  {
   "cell_type": "code",
   "execution_count": null,
   "id": "c10e92e8-1400-4da6-bf0b-323de61aa73d",
   "metadata": {},
   "outputs": [],
   "source": [
    "\n",
    "while num >= 10:\n",
    "    total = 0\n",
    "    while num > 0:\n",
    "        total += num % 10\n",
    "        num //= 10\n",
    "            num = total\n",
    "        return num"
   ]
  },
  {
   "cell_type": "code",
   "execution_count": null,
   "id": "f44bff23-5539-4364-a7be-ba8d2d5274c6",
   "metadata": {},
   "outputs": [],
   "source": []
  },
  {
   "cell_type": "code",
   "execution_count": 4,
   "id": "8f955293-2e1f-46de-a92c-ee670f9405e8",
   "metadata": {},
   "outputs": [
    {
     "name": "stdout",
     "output_type": "stream",
     "text": [
      "0\n",
      "1\n",
      "2\n"
     ]
    }
   ],
   "source": [
    "def print_nums(num):\n",
    "    for i in range(num):\n",
    "        yield i\n",
    "a=print_nums(5)\n",
    "print(next(a))\n",
    "print(next(a))\n",
    "print(next(a))"
   ]
  },
  {
   "cell_type": "code",
   "execution_count": 7,
   "id": "7c07ed7d-231d-4d56-bdc5-4e67709221d2",
   "metadata": {},
   "outputs": [
    {
     "data": {
      "text/plain": [
       "25"
      ]
     },
     "execution_count": 7,
     "metadata": {},
     "output_type": "execute_result"
    }
   ],
   "source": [
    "#lambda\n",
    "sq_nums=lambda x:x**2\n",
    "sq_nums(5)"
   ]
  },
  {
   "cell_type": "code",
   "execution_count": 10,
   "id": "e539a8be-cc24-4a97-ba22-0826c1d8c51e",
   "metadata": {},
   "outputs": [
    {
     "name": "stdout",
     "output_type": "stream",
     "text": [
      "[4, 9, 25, 36, 49, 64]\n"
     ]
    }
   ],
   "source": [
    "#map\n",
    "def square(num):\n",
    "    return num**2\n",
    "nums=[2,3,5,6,7,8]\n",
    "sq_nums=map(square,nums)\n",
    "print(list(sq_nums))"
   ]
  },
  {
   "cell_type": "code",
   "execution_count": 12,
   "id": "363a7367-9369-4ba2-8168-67fd3fcd1d35",
   "metadata": {},
   "outputs": [
    {
     "name": "stdout",
     "output_type": "stream",
     "text": [
      "[4, 9, 16, 25, 36]\n"
     ]
    }
   ],
   "source": [
    "#map+lambda\n",
    "sq_num=map(lambda x:x**2,nums)\n",
    "nums=[2,3,4,5,6]\n",
    "print(list(sq_num))"
   ]
  },
  {
   "cell_type": "code",
   "execution_count": 15,
   "id": "56f5160b-ff8f-43b4-99bf-c11ac0ad765c",
   "metadata": {},
   "outputs": [
    {
     "name": "stdout",
     "output_type": "stream",
     "text": [
      "(2, 4, 6)\n"
     ]
    }
   ],
   "source": [
    "#filter+lambda\n",
    "even_nums=filter(lambda x: x%2 == 0,nums)\n",
    "nums=[2,4,6,7,9]\n",
    "print(list(even_nums))"
   ]
  },
  {
   "cell_type": "code",
   "execution_count": 19,
   "id": "6817eeb7-03ac-4648-8a54-a24ffdc1d4d7",
   "metadata": {},
   "outputs": [
    {
     "name": "stdout",
     "output_type": "stream",
     "text": [
      "20\n"
     ]
    }
   ],
   "source": [
    "#reduce+lamda\n",
    "from functools import reduce\n",
    "sum=reduce(lambda x,y:x+y , nums)\n",
    "nums=[2,3,4,5,6]\n",
    "print(sum)"
   ]
  },
  {
   "cell_type": "code",
   "execution_count": null,
   "id": "0d118bd4-66da-47c1-b54b-aaa1fec3a059",
   "metadata": {},
   "outputs": [],
   "source": []
  }
 ],
 "metadata": {
  "kernelspec": {
   "display_name": "Python 3 (ipykernel)",
   "language": "python",
   "name": "python3"
  },
  "language_info": {
   "codemirror_mode": {
    "name": "ipython",
    "version": 3
   },
   "file_extension": ".py",
   "mimetype": "text/x-python",
   "name": "python",
   "nbconvert_exporter": "python",
   "pygments_lexer": "ipython3",
   "version": "3.11.5"
  }
 },
 "nbformat": 4,
 "nbformat_minor": 5
}
